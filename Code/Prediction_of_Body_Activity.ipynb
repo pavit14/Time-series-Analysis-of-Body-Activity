{
  "nbformat": 4,
  "nbformat_minor": 0,
  "metadata": {
    "colab": {
      "provenance": []
    },
    "kernelspec": {
      "name": "python3",
      "display_name": "Python 3"
    },
    "language_info": {
      "name": "python"
    }
  },
  "cells": [
    {
      "cell_type": "code",
      "source": [
        "#importing all the required libraries\n",
        "import pandas as pd\n",
        "import seaborn as sns\n",
        "import numpy as np\n",
        "import os\n",
        "import re\n",
        "import matplotlib as plt"
      ],
      "metadata": {
        "id": "coOGRSj4f1NY"
      },
      "execution_count": 1,
      "outputs": []
    },
    {
      "cell_type": "code",
      "source": [
        "!pip install ts2vg"
      ],
      "metadata": {
        "id": "cXw86Xcu_0W1",
        "colab": {
          "base_uri": "https://localhost:8080/"
        },
        "outputId": "f83c2922-498e-4818-9ff5-0c162c692d47"
      },
      "execution_count": 2,
      "outputs": [
        {
          "output_type": "stream",
          "name": "stdout",
          "text": [
            "Looking in indexes: https://pypi.org/simple, https://us-python.pkg.dev/colab-wheels/public/simple/\n",
            "Collecting ts2vg\n",
            "  Downloading ts2vg-1.0.0-cp38-cp38-manylinux_2_5_x86_64.manylinux1_x86_64.manylinux_2_12_x86_64.manylinux2010_x86_64.whl (1.1 MB)\n",
            "\u001b[K     |████████████████████████████████| 1.1 MB 4.3 MB/s \n",
            "\u001b[?25hRequirement already satisfied: numpy in /usr/local/lib/python3.8/dist-packages (from ts2vg) (1.21.6)\n",
            "Installing collected packages: ts2vg\n",
            "Successfully installed ts2vg-1.0.0\n"
          ]
        }
      ]
    },
    {
      "cell_type": "code",
      "source": [
        "\n",
        "!pip install igraph"
      ],
      "metadata": {
        "id": "Pa_r-Qot_08B",
        "colab": {
          "base_uri": "https://localhost:8080/"
        },
        "outputId": "34cfa285-f7d3-4ab3-f2f0-4c67e808d587"
      },
      "execution_count": 3,
      "outputs": [
        {
          "output_type": "stream",
          "name": "stdout",
          "text": [
            "Looking in indexes: https://pypi.org/simple, https://us-python.pkg.dev/colab-wheels/public/simple/\n",
            "Collecting igraph\n",
            "  Downloading igraph-0.10.2-cp38-cp38-manylinux_2_17_x86_64.manylinux2014_x86_64.whl (3.3 MB)\n",
            "\u001b[K     |████████████████████████████████| 3.3 MB 4.2 MB/s \n",
            "\u001b[?25hCollecting texttable>=1.6.2\n",
            "  Downloading texttable-1.6.7-py2.py3-none-any.whl (10 kB)\n",
            "Installing collected packages: texttable, igraph\n",
            "Successfully installed igraph-0.10.2 texttable-1.6.7\n"
          ]
        }
      ]
    },
    {
      "cell_type": "code",
      "source": [
        "!pip install pycairo\n",
        "!pip install cairocffi"
      ],
      "metadata": {
        "id": "9MzBPt1T_2j6",
        "colab": {
          "base_uri": "https://localhost:8080/"
        },
        "outputId": "cfcce8dd-24b3-4c3b-a745-dcfb1406d8ea"
      },
      "execution_count": 4,
      "outputs": [
        {
          "output_type": "stream",
          "name": "stdout",
          "text": [
            "Looking in indexes: https://pypi.org/simple, https://us-python.pkg.dev/colab-wheels/public/simple/\n",
            "Collecting pycairo\n",
            "  Downloading pycairo-1.23.0.tar.gz (344 kB)\n",
            "\u001b[K     |████████████████████████████████| 344 kB 4.0 MB/s \n",
            "\u001b[?25h  Installing build dependencies ... \u001b[?25l\u001b[?25hdone\n",
            "  Getting requirements to build wheel ... \u001b[?25l\u001b[?25hdone\n",
            "  Installing backend dependencies ... \u001b[?25l\u001b[?25hdone\n",
            "    Preparing wheel metadata ... \u001b[?25l\u001b[?25hdone\n",
            "Building wheels for collected packages: pycairo\n",
            "  Building wheel for pycairo (PEP 517) ... \u001b[?25l\u001b[?25herror\n",
            "\u001b[31m  ERROR: Failed building wheel for pycairo\u001b[0m\n",
            "Failed to build pycairo\n",
            "\u001b[31mERROR: Could not build wheels for pycairo which use PEP 517 and cannot be installed directly\u001b[0m\n",
            "Looking in indexes: https://pypi.org/simple, https://us-python.pkg.dev/colab-wheels/public/simple/\n",
            "Collecting cairocffi\n",
            "  Downloading cairocffi-1.4.0.tar.gz (69 kB)\n",
            "\u001b[K     |████████████████████████████████| 69 kB 3.3 MB/s \n",
            "\u001b[?25hRequirement already satisfied: cffi>=1.1.0 in /usr/local/lib/python3.8/dist-packages (from cairocffi) (1.15.1)\n",
            "Requirement already satisfied: pycparser in /usr/local/lib/python3.8/dist-packages (from cffi>=1.1.0->cairocffi) (2.21)\n",
            "Building wheels for collected packages: cairocffi\n",
            "  Building wheel for cairocffi (setup.py) ... \u001b[?25l\u001b[?25hdone\n",
            "  Created wheel for cairocffi: filename=cairocffi-1.4.0-py3-none-any.whl size=88775 sha256=b8721b8f873c1f871ff96224cfc58d3b34f4fbb62b2283a0800a4492cce2b69d\n",
            "  Stored in directory: /root/.cache/pip/wheels/01/a9/c0/5c05f9dd73c21f9a7716690642823cdba55594d17a9bd69daf\n",
            "Successfully built cairocffi\n",
            "Installing collected packages: cairocffi\n",
            "Successfully installed cairocffi-1.4.0\n"
          ]
        }
      ]
    },
    {
      "cell_type": "code",
      "source": [
        "from ts2vg import NaturalVG\n",
        "from ts2vg import HorizontalVG"
      ],
      "metadata": {
        "id": "LMK1Ktqdf6di"
      },
      "execution_count": 5,
      "outputs": []
    },
    {
      "cell_type": "code",
      "source": [
        "#resultant table \n",
        "Result=pd.DataFrame({'Method':[],\n",
        "                     'Subject':[],\n",
        "                    'Accelerometer Axis':[],\n",
        "                    'Average Degree':[],\n",
        "                    'Network Diameter':[],\n",
        "                    'Average Path Length':[],\n",
        "                    'Activity':[],\n",
        "                    'Body Part':[]\n",
        "                   })"
      ],
      "metadata": {
        "id": "Wb90-BVykLM6"
      },
      "execution_count": 11,
      "outputs": []
    },
    {
      "cell_type": "code",
      "source": [
        "from google.colab import drive\n",
        "drive.mount('/content/drive')"
      ],
      "metadata": {
        "colab": {
          "base_uri": "https://localhost:8080/"
        },
        "id": "t1CBX3drJiA7",
        "outputId": "d44dd3da-9d72-41fb-d72b-f3f233ed8a25"
      },
      "execution_count": 7,
      "outputs": [
        {
          "output_type": "stream",
          "name": "stdout",
          "text": [
            "Mounted at /content/drive\n"
          ]
        }
      ]
    },
    {
      "cell_type": "code",
      "source": [
        "# Each csv file from the folder is read and the resultant table is computed for HVG and NVG Model for all axis in accelerometer.\n",
        "file_path = '/content/drive/MyDrive/Project2/'\n",
        "for file in os.listdir(file_path):\n",
        "  if 'head' in file:\n",
        "      x=1\n",
        "      df=pd.read_csv(file_path+file)\n",
        "      #subject=file[0]\n",
        "      marker = 'acc'\n",
        "      rP = '(.+?)' + marker\n",
        "      subject= re.search(rP, file).group(1)\n",
        "      marker1 = '_'\n",
        "      marker2 = '_'\n",
        "      regexPattern = marker1 + '(.+?)' + marker2\n",
        "      activity= re.search(regexPattern, file).group(1)\n",
        "      g = HorizontalVG()\n",
        "      g.build(df['attr_x'][1000:2024])\n",
        "      ig_g = g.as_igraph()\n",
        "      Result.loc[len(Result.index)]=[1,subject,1,np.mean(ig_g.degree()),ig_g.diameter(),ig_g.average_path_length(),activity,x]\n",
        "      g.build(df['attr_y'][1000:2024])\n",
        "      ig_g = g.as_igraph()\n",
        "      Result.loc[len(Result.index)]=[1,subject,2,np.mean(ig_g.degree()),ig_g.diameter(),ig_g.average_path_length(),activity,x]\n",
        "      g.build(df['attr_z'][1000:2024])\n",
        "      ig_g = g.as_igraph()\n",
        "      Result.loc[len(Result.index)]=[1,subject,3,np.mean(ig_g.degree()),ig_g.diameter(),ig_g.average_path_length(),activity,x]\n",
        "      g = NaturalVG()\n",
        "      g.build(df['attr_x'][1000:2024])\n",
        "      ig_g = g.as_igraph()\n",
        "      Result.loc[len(Result.index)]=[2,subject,1,np.mean(ig_g.degree()),ig_g.diameter(),ig_g.average_path_length(),activity,x] \n",
        "      g.build(df['attr_y'][1000:2024])\n",
        "      ig_g = g.as_igraph()\n",
        "      Result.loc[len(Result.index)]=[2,subject,2,np.mean(ig_g.degree()),ig_g.diameter(),ig_g.average_path_length(),activity,x]\n",
        "      g.build(df['attr_z'][1000:2024])\n",
        "      ig_g = g.as_igraph()\n",
        "      Result.loc[len(Result.index)]=[2,subject,3,np.mean(ig_g.degree()),ig_g.diameter(),ig_g.average_path_length(),activity,x]\n",
        "  if 'chest' in file:\n",
        "      x=2\n",
        "      df=pd.read_csv(file_path+file)\n",
        "      subject=file[0]\n",
        "      marker1 = '_'\n",
        "      marker2 = '_'\n",
        "      regexPattern = marker1 + '(.+?)' + marker2\n",
        "      activity= re.search(regexPattern, file).group(1)\n",
        "      g = HorizontalVG()\n",
        "      g.build(df['attr_x'][1000:2024])\n",
        "      ig_g = g.as_igraph()\n",
        "      Result.loc[len(Result.index)]=[1,subject,1,np.mean(ig_g.degree()),ig_g.diameter(),ig_g.average_path_length(),activity,x]\n",
        "      g.build(df['attr_y'][1000:2024])\n",
        "      ig_g = g.as_igraph()\n",
        "      Result.loc[len(Result.index)]=[1,subject,2,np.mean(ig_g.degree()),ig_g.diameter(),ig_g.average_path_length(),activity,x]\n",
        "      g.build(df['attr_z'][1000:2024])\n",
        "      ig_g = g.as_igraph()\n",
        "      Result.loc[len(Result.index)]=[1,subject,3,np.mean(ig_g.degree()),ig_g.diameter(),ig_g.average_path_length(),activity,x]\n",
        "      g = NaturalVG()\n",
        "      g.build(df['attr_x'][1000:2024])\n",
        "      ig_g = g.as_igraph()\n",
        "      Result.loc[len(Result.index)]=[2,subject,1,np.mean(ig_g.degree()),ig_g.diameter(),ig_g.average_path_length(),activity,x] \n",
        "      g.build(df['attr_y'][1000:2024])\n",
        "      ig_g = g.as_igraph()\n",
        "      Result.loc[len(Result.index)]=[2,subject,2,np.mean(ig_g.degree()),ig_g.diameter(),ig_g.average_path_length(),activity,x]\n",
        "      g.build(df['attr_z'][1000:2024])\n",
        "      ig_g = g.as_igraph()\n",
        "      Result.loc[len(Result.index)]=[2,subject,3,np.mean(ig_g.degree()),ig_g.diameter(),ig_g.average_path_length(),activity,x]\n",
        "  if 'thigh' in file:\n",
        "      x=3\n",
        "      df=pd.read_csv(file_path+file)\n",
        "      subject=file[0]\n",
        "      marker1 = '_'\n",
        "      marker2 = '_'\n",
        "      regexPattern = marker1 + '(.+?)' + marker2\n",
        "      activity= re.search(regexPattern, file).group(1)\n",
        "      g = HorizontalVG()\n",
        "      g.build(df['attr_x'][1000:2024])\n",
        "      ig_g = g.as_igraph()\n",
        "      Result.loc[len(Result.index)]=[1,subject,1,np.mean(ig_g.degree()),ig_g.diameter(),ig_g.average_path_length(),activity,x]\n",
        "      g.build(df['attr_y'][1000:2024])\n",
        "      ig_g = g.as_igraph()\n",
        "      Result.loc[len(Result.index)]=[1,subject,2,np.mean(ig_g.degree()),ig_g.diameter(),ig_g.average_path_length(),activity,x]\n",
        "      g.build(df['attr_z'][1000:2024])\n",
        "      ig_g = g.as_igraph()\n",
        "      Result.loc[len(Result.index)]=[1,subject,3,np.mean(ig_g.degree()),ig_g.diameter(),ig_g.average_path_length(),activity,x]\n",
        "      g = NaturalVG()\n",
        "      g.build(df['attr_x'][1000:2024])\n",
        "      ig_g = g.as_igraph()\n",
        "      Result.loc[len(Result.index)]=[2,subject,1,np.mean(ig_g.degree()),ig_g.diameter(),ig_g.average_path_length(),activity,x] \n",
        "      g.build(df['attr_y'][1000:2024])\n",
        "      ig_g = g.as_igraph()\n",
        "      Result.loc[len(Result.index)]=[2,subject,2,np.mean(ig_g.degree()),ig_g.diameter(),ig_g.average_path_length(),activity,x]\n",
        "      g.build(df['attr_z'][1000:2024])\n",
        "      ig_g = g.as_igraph()\n",
        "      Result.loc[len(Result.index)]=[2,subject,3,np.mean(ig_g.degree()),ig_g.diameter(),ig_g.average_path_length(),activity,x]\n",
        "  if 'shin' in file:\n",
        "      x=4\n",
        "      df=pd.read_csv(file_path+file)\n",
        "      subject=file[0]\n",
        "      marker1 = '_'\n",
        "      marker2 = '_'\n",
        "      regexPattern = marker1 + '(.+?)' + marker2\n",
        "      activity= re.search(regexPattern, file).group(1)\n",
        "      g = HorizontalVG()\n",
        "      g.build(df['attr_x'][1000:2024])\n",
        "      ig_g = g.as_igraph()\n",
        "      Result.loc[len(Result.index)]=[1,subject,1,np.mean(ig_g.degree()),ig_g.diameter(),ig_g.average_path_length(),activity,x]\n",
        "      g.build(df['attr_y'][1000:2024])\n",
        "      ig_g = g.as_igraph()\n",
        "      Result.loc[len(Result.index)]=[1,subject,2,np.mean(ig_g.degree()),ig_g.diameter(),ig_g.average_path_length(),activity,x]\n",
        "      g.build(df['attr_z'][1000:2024])\n",
        "      ig_g = g.as_igraph()\n",
        "      Result.loc[len(Result.index)]=[1,subject,3,np.mean(ig_g.degree()),ig_g.diameter(),ig_g.average_path_length(),activity,x]\n",
        "      g = NaturalVG()\n",
        "      g.build(df['attr_x'][1000:2024])\n",
        "      ig_g = g.as_igraph()\n",
        "      Result.loc[len(Result.index)]=[2,subject,1,np.mean(ig_g.degree()),ig_g.diameter(),ig_g.average_path_length(),activity,x] \n",
        "      g.build(df['attr_y'][1000:2024])\n",
        "      ig_g = g.as_igraph()\n",
        "      Result.loc[len(Result.index)]=[2,subject,2,np.mean(ig_g.degree()),ig_g.diameter(),ig_g.average_path_length(),activity,x]\n",
        "      g.build(df['attr_z'][1000:2024])\n",
        "      ig_g = g.as_igraph()\n",
        "      Result.loc[len(Result.index)]=[2,subject,3,np.mean(ig_g.degree()),ig_g.diameter(),ig_g.average_path_length(),activity,x]\n",
        "  if 'forearm' in file:\n",
        "      x=5\n",
        "      df=pd.read_csv(file_path+file)\n",
        "      subject=file[0]\n",
        "      marker1 = '_'\n",
        "      marker2 = '_'\n",
        "      regexPattern = marker1 + '(.+?)' + marker2\n",
        "      activity= re.search(regexPattern, file).group(1)\n",
        "      g = HorizontalVG()\n",
        "      g.build(df['attr_x'][1000:2024])\n",
        "      ig_g = g.as_igraph()\n",
        "      Result.loc[len(Result.index)]=[1,subject,1,np.mean(ig_g.degree()),ig_g.diameter(),ig_g.average_path_length(),activity,x]\n",
        "      g.build(df['attr_y'][1000:2024])\n",
        "      ig_g = g.as_igraph()\n",
        "      Result.loc[len(Result.index)]=[1,subject,2,np.mean(ig_g.degree()),ig_g.diameter(),ig_g.average_path_length(),activity,x]\n",
        "      g.build(df['attr_z'][1000:2024])\n",
        "      ig_g = g.as_igraph()\n",
        "      Result.loc[len(Result.index)]=[1,subject,3,np.mean(ig_g.degree()),ig_g.diameter(),ig_g.average_path_length(),activity,x]\n",
        "      g = NaturalVG()\n",
        "      g.build(df['attr_x'][1000:2024])\n",
        "      ig_g = g.as_igraph()\n",
        "      Result.loc[len(Result.index)]=[2,subject,1,np.mean(ig_g.degree()),ig_g.diameter(),ig_g.average_path_length(),activity,x] \n",
        "      g.build(df['attr_y'][1000:2024])\n",
        "      ig_g = g.as_igraph()\n",
        "      Result.loc[len(Result.index)]=[2,subject,2,np.mean(ig_g.degree()),ig_g.diameter(),ig_g.average_path_length(),activity,x]\n",
        "      g.build(df['attr_z'][1000:2024])\n",
        "      ig_g = g.as_igraph()\n",
        "      Result.loc[len(Result.index)]=[2,subject,3,np.mean(ig_g.degree()),ig_g.diameter(),ig_g.average_path_length(),activity,x]\n",
        "  if 'upperarm' in file:\n",
        "      x=6\n",
        "      df=pd.read_csv(file_path+file)\n",
        "      subject=file[0]\n",
        "      marker1 = '_'\n",
        "      marker2 = '_'\n",
        "      regexPattern = marker1 + '(.+?)' + marker2\n",
        "      activity= re.search(regexPattern, file).group(1)\n",
        "      g = HorizontalVG()\n",
        "      g.build(df['attr_x'][1000:2024])\n",
        "      ig_g = g.as_igraph()\n",
        "      Result.loc[len(Result.index)]=[1,subject,1,np.mean(ig_g.degree()),ig_g.diameter(),ig_g.average_path_length(),activity,x]\n",
        "      g.build(df['attr_y'][1000:2024])\n",
        "      ig_g = g.as_igraph()\n",
        "      Result.loc[len(Result.index)]=[1,subject,2,np.mean(ig_g.degree()),ig_g.diameter(),ig_g.average_path_length(),activity,x]\n",
        "      g.build(df['attr_z'][1000:2024])\n",
        "      ig_g = g.as_igraph()\n",
        "      Result.loc[len(Result.index)]=[1,subject,3,np.mean(ig_g.degree()),ig_g.diameter(),ig_g.average_path_length(),activity,x]\n",
        "      g = NaturalVG()\n",
        "      g.build(df['attr_x'][1000:2024])\n",
        "      ig_g = g.as_igraph()\n",
        "      Result.loc[len(Result.index)]=[2,subject,1,np.mean(ig_g.degree()),ig_g.diameter(),ig_g.average_path_length(),activity,x] \n",
        "      g.build(df['attr_y'][1000:2024])\n",
        "      ig_g = g.as_igraph()\n",
        "      Result.loc[len(Result.index)]=[2,subject,2,np.mean(ig_g.degree()),ig_g.diameter(),ig_g.average_path_length(),activity,x]\n",
        "      g.build(df['attr_z'][1000:2024])\n",
        "      ig_g = g.as_igraph()\n",
        "      Result.loc[len(Result.index)]=[2,subject,3,np.mean(ig_g.degree()),ig_g.diameter(),ig_g.average_path_length(),activity,x]\n",
        "  if 'waist' in file:\n",
        "      x=7\n",
        "      df=pd.read_csv(file_path+file)\n",
        "      subject=file[0]\n",
        "      marker1 = '_'\n",
        "      marker2 = '_'\n",
        "      regexPattern = marker1 + '(.+?)' + marker2\n",
        "      activity= re.search(regexPattern, file).group(1)\n",
        "      g = HorizontalVG()\n",
        "      g.build(df['attr_x'][1000:2024])\n",
        "      ig_g = g.as_igraph()\n",
        "      Result.loc[len(Result.index)]=[1,subject,1,np.mean(ig_g.degree()),ig_g.diameter(),ig_g.average_path_length(),activity,x]\n",
        "      g.build(df['attr_y'][1000:2024])\n",
        "      ig_g = g.as_igraph()\n",
        "      Result.loc[len(Result.index)]=[1,subject,2,np.mean(ig_g.degree()),ig_g.diameter(),ig_g.average_path_length(),activity,x]\n",
        "      g.build(df['attr_z'][1000:2024])\n",
        "      ig_g = g.as_igraph()\n",
        "      Result.loc[len(Result.index)]=[1,subject,3,np.mean(ig_g.degree()),ig_g.diameter(),ig_g.average_path_length(),activity,x]\n",
        "      g = NaturalVG()\n",
        "      g.build(df['attr_x'][1000:2024])\n",
        "      ig_g = g.as_igraph()\n",
        "      Result.loc[len(Result.index)]=[2,subject,1,np.mean(ig_g.degree()),ig_g.diameter(),ig_g.average_path_length(),activity,x] \n",
        "      g.build(df['attr_y'][1000:2024])\n",
        "      ig_g = g.as_igraph()\n",
        "      Result.loc[len(Result.index)]=[2,subject,2,np.mean(ig_g.degree()),ig_g.diameter(),ig_g.average_path_length(),activity,x]\n",
        "      g.build(df['attr_z'][1000:2024])\n",
        "      ig_g = g.as_igraph()\n",
        "      Result.loc[len(Result.index)]=[2,subject,3,np.mean(ig_g.degree()),ig_g.diameter(),ig_g.average_path_length(),activity,x]"
      ],
      "metadata": {
        "id": "Cylo4cdRkSmG"
      },
      "execution_count": 12,
      "outputs": []
    },
    {
      "cell_type": "code",
      "source": [
        "Result"
      ],
      "metadata": {
        "colab": {
          "base_uri": "https://localhost:8080/",
          "height": 480
        },
        "id": "ejeJwymlji24",
        "outputId": "6ca95c0c-ab62-4d28-f7f3-8c30ca1a34f0"
      },
      "execution_count": 19,
      "outputs": [
        {
          "output_type": "execute_result",
          "data": {
            "text/plain": [
              "      Method Subject  Accelerometer Axis  Average Degree  Network Diameter  \\\n",
              "0        1.0       1                 1.0        3.955078              23.0   \n",
              "1        1.0       1                 2.0        3.908203              47.0   \n",
              "2        1.0       1                 3.0        3.958984              20.0   \n",
              "3        2.0       1                 1.0        8.544922              11.0   \n",
              "4        2.0       1                 2.0        7.998047              38.0   \n",
              "...      ...     ...                 ...             ...               ...   \n",
              "2503     1.0       3                 2.0        3.966797              24.0   \n",
              "2504     1.0       3                 3.0        3.941406              32.0   \n",
              "2505     2.0       3                 1.0        9.607422              12.0   \n",
              "2506     2.0       3                 2.0        9.455078              10.0   \n",
              "2507     2.0       3                 3.0        8.685547              11.0   \n",
              "\n",
              "      Average Path Length      Activity  Body Part  \n",
              "0                9.479419       walking        3.0  \n",
              "1               15.168291       walking        3.0  \n",
              "2                9.007160       walking        3.0  \n",
              "3                4.854615       walking        3.0  \n",
              "4               12.565704       walking        3.0  \n",
              "...                   ...           ...        ...  \n",
              "2503            11.050271  climbingdown        7.0  \n",
              "2504            10.739412  climbingdown        7.0  \n",
              "2505             5.141414  climbingdown        7.0  \n",
              "2506             4.506858  climbingdown        7.0  \n",
              "2507             4.853000  climbingdown        7.0  \n",
              "\n",
              "[2508 rows x 8 columns]"
            ],
            "text/html": [
              "\n",
              "  <div id=\"df-9e02ae5f-d8b6-43cb-9ac2-55252c0b462a\">\n",
              "    <div class=\"colab-df-container\">\n",
              "      <div>\n",
              "<style scoped>\n",
              "    .dataframe tbody tr th:only-of-type {\n",
              "        vertical-align: middle;\n",
              "    }\n",
              "\n",
              "    .dataframe tbody tr th {\n",
              "        vertical-align: top;\n",
              "    }\n",
              "\n",
              "    .dataframe thead th {\n",
              "        text-align: right;\n",
              "    }\n",
              "</style>\n",
              "<table border=\"1\" class=\"dataframe\">\n",
              "  <thead>\n",
              "    <tr style=\"text-align: right;\">\n",
              "      <th></th>\n",
              "      <th>Method</th>\n",
              "      <th>Subject</th>\n",
              "      <th>Accelerometer Axis</th>\n",
              "      <th>Average Degree</th>\n",
              "      <th>Network Diameter</th>\n",
              "      <th>Average Path Length</th>\n",
              "      <th>Activity</th>\n",
              "      <th>Body Part</th>\n",
              "    </tr>\n",
              "  </thead>\n",
              "  <tbody>\n",
              "    <tr>\n",
              "      <th>0</th>\n",
              "      <td>1.0</td>\n",
              "      <td>1</td>\n",
              "      <td>1.0</td>\n",
              "      <td>3.955078</td>\n",
              "      <td>23.0</td>\n",
              "      <td>9.479419</td>\n",
              "      <td>walking</td>\n",
              "      <td>3.0</td>\n",
              "    </tr>\n",
              "    <tr>\n",
              "      <th>1</th>\n",
              "      <td>1.0</td>\n",
              "      <td>1</td>\n",
              "      <td>2.0</td>\n",
              "      <td>3.908203</td>\n",
              "      <td>47.0</td>\n",
              "      <td>15.168291</td>\n",
              "      <td>walking</td>\n",
              "      <td>3.0</td>\n",
              "    </tr>\n",
              "    <tr>\n",
              "      <th>2</th>\n",
              "      <td>1.0</td>\n",
              "      <td>1</td>\n",
              "      <td>3.0</td>\n",
              "      <td>3.958984</td>\n",
              "      <td>20.0</td>\n",
              "      <td>9.007160</td>\n",
              "      <td>walking</td>\n",
              "      <td>3.0</td>\n",
              "    </tr>\n",
              "    <tr>\n",
              "      <th>3</th>\n",
              "      <td>2.0</td>\n",
              "      <td>1</td>\n",
              "      <td>1.0</td>\n",
              "      <td>8.544922</td>\n",
              "      <td>11.0</td>\n",
              "      <td>4.854615</td>\n",
              "      <td>walking</td>\n",
              "      <td>3.0</td>\n",
              "    </tr>\n",
              "    <tr>\n",
              "      <th>4</th>\n",
              "      <td>2.0</td>\n",
              "      <td>1</td>\n",
              "      <td>2.0</td>\n",
              "      <td>7.998047</td>\n",
              "      <td>38.0</td>\n",
              "      <td>12.565704</td>\n",
              "      <td>walking</td>\n",
              "      <td>3.0</td>\n",
              "    </tr>\n",
              "    <tr>\n",
              "      <th>...</th>\n",
              "      <td>...</td>\n",
              "      <td>...</td>\n",
              "      <td>...</td>\n",
              "      <td>...</td>\n",
              "      <td>...</td>\n",
              "      <td>...</td>\n",
              "      <td>...</td>\n",
              "      <td>...</td>\n",
              "    </tr>\n",
              "    <tr>\n",
              "      <th>2503</th>\n",
              "      <td>1.0</td>\n",
              "      <td>3</td>\n",
              "      <td>2.0</td>\n",
              "      <td>3.966797</td>\n",
              "      <td>24.0</td>\n",
              "      <td>11.050271</td>\n",
              "      <td>climbingdown</td>\n",
              "      <td>7.0</td>\n",
              "    </tr>\n",
              "    <tr>\n",
              "      <th>2504</th>\n",
              "      <td>1.0</td>\n",
              "      <td>3</td>\n",
              "      <td>3.0</td>\n",
              "      <td>3.941406</td>\n",
              "      <td>32.0</td>\n",
              "      <td>10.739412</td>\n",
              "      <td>climbingdown</td>\n",
              "      <td>7.0</td>\n",
              "    </tr>\n",
              "    <tr>\n",
              "      <th>2505</th>\n",
              "      <td>2.0</td>\n",
              "      <td>3</td>\n",
              "      <td>1.0</td>\n",
              "      <td>9.607422</td>\n",
              "      <td>12.0</td>\n",
              "      <td>5.141414</td>\n",
              "      <td>climbingdown</td>\n",
              "      <td>7.0</td>\n",
              "    </tr>\n",
              "    <tr>\n",
              "      <th>2506</th>\n",
              "      <td>2.0</td>\n",
              "      <td>3</td>\n",
              "      <td>2.0</td>\n",
              "      <td>9.455078</td>\n",
              "      <td>10.0</td>\n",
              "      <td>4.506858</td>\n",
              "      <td>climbingdown</td>\n",
              "      <td>7.0</td>\n",
              "    </tr>\n",
              "    <tr>\n",
              "      <th>2507</th>\n",
              "      <td>2.0</td>\n",
              "      <td>3</td>\n",
              "      <td>3.0</td>\n",
              "      <td>8.685547</td>\n",
              "      <td>11.0</td>\n",
              "      <td>4.853000</td>\n",
              "      <td>climbingdown</td>\n",
              "      <td>7.0</td>\n",
              "    </tr>\n",
              "  </tbody>\n",
              "</table>\n",
              "<p>2508 rows × 8 columns</p>\n",
              "</div>\n",
              "      <button class=\"colab-df-convert\" onclick=\"convertToInteractive('df-9e02ae5f-d8b6-43cb-9ac2-55252c0b462a')\"\n",
              "              title=\"Convert this dataframe to an interactive table.\"\n",
              "              style=\"display:none;\">\n",
              "        \n",
              "  <svg xmlns=\"http://www.w3.org/2000/svg\" height=\"24px\"viewBox=\"0 0 24 24\"\n",
              "       width=\"24px\">\n",
              "    <path d=\"M0 0h24v24H0V0z\" fill=\"none\"/>\n",
              "    <path d=\"M18.56 5.44l.94 2.06.94-2.06 2.06-.94-2.06-.94-.94-2.06-.94 2.06-2.06.94zm-11 1L8.5 8.5l.94-2.06 2.06-.94-2.06-.94L8.5 2.5l-.94 2.06-2.06.94zm10 10l.94 2.06.94-2.06 2.06-.94-2.06-.94-.94-2.06-.94 2.06-2.06.94z\"/><path d=\"M17.41 7.96l-1.37-1.37c-.4-.4-.92-.59-1.43-.59-.52 0-1.04.2-1.43.59L10.3 9.45l-7.72 7.72c-.78.78-.78 2.05 0 2.83L4 21.41c.39.39.9.59 1.41.59.51 0 1.02-.2 1.41-.59l7.78-7.78 2.81-2.81c.8-.78.8-2.07 0-2.86zM5.41 20L4 18.59l7.72-7.72 1.47 1.35L5.41 20z\"/>\n",
              "  </svg>\n",
              "      </button>\n",
              "      \n",
              "  <style>\n",
              "    .colab-df-container {\n",
              "      display:flex;\n",
              "      flex-wrap:wrap;\n",
              "      gap: 12px;\n",
              "    }\n",
              "\n",
              "    .colab-df-convert {\n",
              "      background-color: #E8F0FE;\n",
              "      border: none;\n",
              "      border-radius: 50%;\n",
              "      cursor: pointer;\n",
              "      display: none;\n",
              "      fill: #1967D2;\n",
              "      height: 32px;\n",
              "      padding: 0 0 0 0;\n",
              "      width: 32px;\n",
              "    }\n",
              "\n",
              "    .colab-df-convert:hover {\n",
              "      background-color: #E2EBFA;\n",
              "      box-shadow: 0px 1px 2px rgba(60, 64, 67, 0.3), 0px 1px 3px 1px rgba(60, 64, 67, 0.15);\n",
              "      fill: #174EA6;\n",
              "    }\n",
              "\n",
              "    [theme=dark] .colab-df-convert {\n",
              "      background-color: #3B4455;\n",
              "      fill: #D2E3FC;\n",
              "    }\n",
              "\n",
              "    [theme=dark] .colab-df-convert:hover {\n",
              "      background-color: #434B5C;\n",
              "      box-shadow: 0px 1px 3px 1px rgba(0, 0, 0, 0.15);\n",
              "      filter: drop-shadow(0px 1px 2px rgba(0, 0, 0, 0.3));\n",
              "      fill: #FFFFFF;\n",
              "    }\n",
              "  </style>\n",
              "\n",
              "      <script>\n",
              "        const buttonEl =\n",
              "          document.querySelector('#df-9e02ae5f-d8b6-43cb-9ac2-55252c0b462a button.colab-df-convert');\n",
              "        buttonEl.style.display =\n",
              "          google.colab.kernel.accessAllowed ? 'block' : 'none';\n",
              "\n",
              "        async function convertToInteractive(key) {\n",
              "          const element = document.querySelector('#df-9e02ae5f-d8b6-43cb-9ac2-55252c0b462a');\n",
              "          const dataTable =\n",
              "            await google.colab.kernel.invokeFunction('convertToInteractive',\n",
              "                                                     [key], {});\n",
              "          if (!dataTable) return;\n",
              "\n",
              "          const docLinkHtml = 'Like what you see? Visit the ' +\n",
              "            '<a target=\"_blank\" href=https://colab.research.google.com/notebooks/data_table.ipynb>data table notebook</a>'\n",
              "            + ' to learn more about interactive tables.';\n",
              "          element.innerHTML = '';\n",
              "          dataTable['output_type'] = 'display_data';\n",
              "          await google.colab.output.renderOutput(dataTable, element);\n",
              "          const docLink = document.createElement('div');\n",
              "          docLink.innerHTML = docLinkHtml;\n",
              "          element.appendChild(docLink);\n",
              "        }\n",
              "      </script>\n",
              "    </div>\n",
              "  </div>\n",
              "  "
            ]
          },
          "metadata": {},
          "execution_count": 19
        }
      ]
    },
    {
      "cell_type": "code",
      "source": [
        "from sklearn.metrics import confusion_matrix\n",
        "from sklearn.model_selection import train_test_split\n",
        "from sklearn.tree import DecisionTreeClassifier\n",
        "from sklearn.metrics import accuracy_score\n",
        "from sklearn.metrics import classification_report\n",
        "from sklearn.linear_model import LogisticRegression\n",
        "from sklearn.tree import DecisionTreeClassifier\n",
        "from sklearn.neighbors import KNeighborsClassifier\n",
        "from sklearn.discriminant_analysis import LinearDiscriminantAnalysis\n",
        "from sklearn.naive_bayes import GaussianNB\n",
        "from sklearn.svm import SVC\n"
      ],
      "metadata": {
        "id": "IklznaSdXIMF"
      },
      "execution_count": 33,
      "outputs": []
    },
    {
      "cell_type": "code",
      "source": [
        "Y = Result['Activity']\n",
        "X = Result.drop(['Activity'], axis=1)\n",
        "X_train, X_test, y_train, y_test = train_test_split( X, Y, test_size = 0.3, random_state = 100)"
      ],
      "metadata": {
        "id": "oCI_OKh3lqnv"
      },
      "execution_count": 25,
      "outputs": []
    },
    {
      "cell_type": "code",
      "source": [
        "clf = DecisionTreeClassifier(criterion = \"gini\",random_state = 100,max_depth=3, min_samples_leaf=5)\n",
        "clf = clf.fit(X_train,y_train)\n",
        "y_pred = clf.predict(X_test)"
      ],
      "metadata": {
        "id": "UpfO9krYosmT"
      },
      "execution_count": 44,
      "outputs": []
    },
    {
      "cell_type": "code",
      "source": [
        "from sklearn import metrics\n",
        "print(\"Accuracy:\",metrics.accuracy_score(y_test, y_pred))"
      ],
      "metadata": {
        "colab": {
          "base_uri": "https://localhost:8080/"
        },
        "id": "Sg26gksloxen",
        "outputId": "2a597b3d-baaa-4715-efba-f802b7718df1"
      },
      "execution_count": 43,
      "outputs": [
        {
          "output_type": "stream",
          "name": "stdout",
          "text": [
            "Accuracy: 0.33067729083665337\n"
          ]
        }
      ]
    },
    {
      "cell_type": "code",
      "source": [
        "ResultHead=Result[Result['Body Part']=='head']\n",
        "ResultChest=Result[Result['Body Part']=='chest']"
      ],
      "metadata": {
        "id": "sEfDOfgTxi6g"
      },
      "execution_count": null,
      "outputs": []
    },
    {
      "cell_type": "markdown",
      "source": [
        "## Based on Head Body part"
      ],
      "metadata": {
        "id": "tFwVdjw95SUa"
      }
    },
    {
      "cell_type": "code",
      "source": [
        "# Each csv file from the folder is read and the resultant table is computed for HVG and NVG Model for all axis in accelerometer.\n",
        "file_path = '/content/drive/MyDrive/Project2/'\n",
        "for file in os.listdir(file_path):\n",
        "  if 'head' in file:\n",
        "      df=pd.read_csv(file_path+file)\n",
        "      #subject=file[0]\n",
        "      marker = 'acc'\n",
        "      rP = '(.+?)' + marker\n",
        "      subject= re.search(rP, file).group(1)\n",
        "      marker1 = '_'\n",
        "      marker2 = '_'\n",
        "      regexPattern = marker1 + '(.+?)' + marker2\n",
        "      activity= re.search(regexPattern, file).group(1)\n",
        "      g = HorizontalVG()\n",
        "      g.build(df['attr_x'][1000:2024])\n",
        "      ig_g = g.as_igraph()\n",
        "      Result.loc[len(Result.index)]=['HVG',subject,'x',np.mean(ig_g.degree()),ig_g.diameter(),ig_g.average_path_length(),activity,'head']\n",
        "      g.build(df['attr_y'][1000:2024])\n",
        "      ig_g = g.as_igraph()\n",
        "      Result.loc[len(Result.index)]=['HVG',subject,'y',np.mean(ig_g.degree()),ig_g.diameter(),ig_g.average_path_length(),activity,'head']\n",
        "      g.build(df['attr_z'][1000:2024])\n",
        "      ig_g = g.as_igraph()\n",
        "      Result.loc[len(Result.index)]=['HVG',subject,'z',np.mean(ig_g.degree()),ig_g.diameter(),ig_g.average_path_length(),activity,'head']\n",
        "      g = NaturalVG()\n",
        "      g.build(df['attr_x'][1000:2024])\n",
        "      ig_g = g.as_igraph()\n",
        "      Result.loc[len(Result.index)]=['NVG',subject,'x',np.mean(ig_g.degree()),ig_g.diameter(),ig_g.average_path_length(),activity,'head'] \n",
        "      g.build(df['attr_y'][1000:2024])\n",
        "      ig_g = g.as_igraph()\n",
        "      Result.loc[len(Result.index)]=['NVG',subject,'y',np.mean(ig_g.degree()),ig_g.diameter(),ig_g.average_path_length(),activity,'head']\n",
        "      g.build(df['attr_z'][1000:2024])\n",
        "      ig_g = g.as_igraph()\n",
        "      Result.loc[len(Result.index)]=['NVG',subject,'z',np.mean(ig_g.degree()),ig_g.diameter(),ig_g.average_path_length(),activity,'head']\n",
        "  if 'chest' in file:\n",
        "      df=pd.read_csv(file_path+file)\n",
        "      subject=file[0]\n",
        "      marker1 = '_'\n",
        "      marker2 = '_'\n",
        "      regexPattern = marker1 + '(.+?)' + marker2\n",
        "      activity= re.search(regexPattern, file).group(1)\n",
        "      g = HorizontalVG()\n",
        "      g.build(df['attr_x'][1000:2024])\n",
        "      ig_g = g.as_igraph()\n",
        "      Result.loc[len(Result.index)]=['HVG',subject,'x',np.mean(ig_g.degree()),ig_g.diameter(),ig_g.average_path_length(),activity,'chest']\n",
        "      g.build(df['attr_y'][1000:2024])\n",
        "      ig_g = g.as_igraph()\n",
        "      Result.loc[len(Result.index)]=['HVG',subject,'y',np.mean(ig_g.degree()),ig_g.diameter(),ig_g.average_path_length(),activity,'chest']\n",
        "      g.build(df['attr_z'][1000:2024])\n",
        "      ig_g = g.as_igraph()\n",
        "      Result.loc[len(Result.index)]=['HVG',subject,'z',np.mean(ig_g.degree()),ig_g.diameter(),ig_g.average_path_length(),activity,'chest']\n",
        "      g = NaturalVG()\n",
        "      g.build(df['attr_x'][1000:2024])\n",
        "      ig_g = g.as_igraph()\n",
        "      Result.loc[len(Result.index)]=['NVG',subject,'x',np.mean(ig_g.degree()),ig_g.diameter(),ig_g.average_path_length(),activity,'chest'] \n",
        "      g.build(df['attr_y'][1000:2024])\n",
        "      ig_g = g.as_igraph()\n",
        "      Result.loc[len(Result.index)]=['NVG',subject,'y',np.mean(ig_g.degree()),ig_g.diameter(),ig_g.average_path_length(),activity,'chest']\n",
        "      g.build(df['attr_z'][1000:2024])\n",
        "      ig_g = g.as_igraph()\n",
        "      Result.loc[len(Result.index)]=['NVG',subject,'z',np.mean(ig_g.degree()),ig_g.diameter(),ig_g.average_path_length(),activity,'chest']"
      ],
      "metadata": {
        "id": "rJtGNsrKt62G"
      },
      "execution_count": null,
      "outputs": []
    },
    {
      "cell_type": "code",
      "source": [
        "Result"
      ],
      "metadata": {
        "colab": {
          "base_uri": "https://localhost:8080/",
          "height": 463
        },
        "outputId": "ed6e362f-855e-405c-d2c2-2f444eb5a4a9",
        "id": "GAn2bdMxt62H"
      },
      "execution_count": null,
      "outputs": [
        {
          "output_type": "execute_result",
          "data": {
            "text/plain": [
              "    Method Subject Accelerometer Axis  Average Degree  Network Diameter  \\\n",
              "0      HVG       1                  x        3.939453              28.0   \n",
              "1      HVG       1                  y        3.957031              31.0   \n",
              "2      HVG       1                  z        3.955078              21.0   \n",
              "3      NVG       1                  x        9.533203              11.0   \n",
              "4      NVG       1                  y       12.513672              11.0   \n",
              "..     ...     ...                ...             ...               ...   \n",
              "715    HVG       3                  y        3.933594              34.0   \n",
              "716    HVG       3                  z        3.939453              38.0   \n",
              "717    NVG       3                  x       11.111328               9.0   \n",
              "718    NVG       3                  y       16.359375              16.0   \n",
              "719    NVG       3                  z        8.501953               9.0   \n",
              "\n",
              "     Average Path Length      Activity Body Part  \n",
              "0              11.345016       walking     chest  \n",
              "1              12.852015       walking     chest  \n",
              "2               8.608667       walking     chest  \n",
              "3               4.457285       walking     chest  \n",
              "4               4.917133       walking     chest  \n",
              "..                   ...           ...       ...  \n",
              "715            15.001619  climbingdown     chest  \n",
              "716            11.915701  climbingdown     chest  \n",
              "717             4.097857  climbingdown     chest  \n",
              "718             6.820122  climbingdown     chest  \n",
              "719             4.644999  climbingdown     chest  \n",
              "\n",
              "[720 rows x 8 columns]"
            ],
            "text/html": [
              "\n",
              "  <div id=\"df-6221d677-22c8-4887-b7a6-408d69613ee6\">\n",
              "    <div class=\"colab-df-container\">\n",
              "      <div>\n",
              "<style scoped>\n",
              "    .dataframe tbody tr th:only-of-type {\n",
              "        vertical-align: middle;\n",
              "    }\n",
              "\n",
              "    .dataframe tbody tr th {\n",
              "        vertical-align: top;\n",
              "    }\n",
              "\n",
              "    .dataframe thead th {\n",
              "        text-align: right;\n",
              "    }\n",
              "</style>\n",
              "<table border=\"1\" class=\"dataframe\">\n",
              "  <thead>\n",
              "    <tr style=\"text-align: right;\">\n",
              "      <th></th>\n",
              "      <th>Method</th>\n",
              "      <th>Subject</th>\n",
              "      <th>Accelerometer Axis</th>\n",
              "      <th>Average Degree</th>\n",
              "      <th>Network Diameter</th>\n",
              "      <th>Average Path Length</th>\n",
              "      <th>Activity</th>\n",
              "      <th>Body Part</th>\n",
              "    </tr>\n",
              "  </thead>\n",
              "  <tbody>\n",
              "    <tr>\n",
              "      <th>0</th>\n",
              "      <td>HVG</td>\n",
              "      <td>1</td>\n",
              "      <td>x</td>\n",
              "      <td>3.939453</td>\n",
              "      <td>28.0</td>\n",
              "      <td>11.345016</td>\n",
              "      <td>walking</td>\n",
              "      <td>chest</td>\n",
              "    </tr>\n",
              "    <tr>\n",
              "      <th>1</th>\n",
              "      <td>HVG</td>\n",
              "      <td>1</td>\n",
              "      <td>y</td>\n",
              "      <td>3.957031</td>\n",
              "      <td>31.0</td>\n",
              "      <td>12.852015</td>\n",
              "      <td>walking</td>\n",
              "      <td>chest</td>\n",
              "    </tr>\n",
              "    <tr>\n",
              "      <th>2</th>\n",
              "      <td>HVG</td>\n",
              "      <td>1</td>\n",
              "      <td>z</td>\n",
              "      <td>3.955078</td>\n",
              "      <td>21.0</td>\n",
              "      <td>8.608667</td>\n",
              "      <td>walking</td>\n",
              "      <td>chest</td>\n",
              "    </tr>\n",
              "    <tr>\n",
              "      <th>3</th>\n",
              "      <td>NVG</td>\n",
              "      <td>1</td>\n",
              "      <td>x</td>\n",
              "      <td>9.533203</td>\n",
              "      <td>11.0</td>\n",
              "      <td>4.457285</td>\n",
              "      <td>walking</td>\n",
              "      <td>chest</td>\n",
              "    </tr>\n",
              "    <tr>\n",
              "      <th>4</th>\n",
              "      <td>NVG</td>\n",
              "      <td>1</td>\n",
              "      <td>y</td>\n",
              "      <td>12.513672</td>\n",
              "      <td>11.0</td>\n",
              "      <td>4.917133</td>\n",
              "      <td>walking</td>\n",
              "      <td>chest</td>\n",
              "    </tr>\n",
              "    <tr>\n",
              "      <th>...</th>\n",
              "      <td>...</td>\n",
              "      <td>...</td>\n",
              "      <td>...</td>\n",
              "      <td>...</td>\n",
              "      <td>...</td>\n",
              "      <td>...</td>\n",
              "      <td>...</td>\n",
              "      <td>...</td>\n",
              "    </tr>\n",
              "    <tr>\n",
              "      <th>715</th>\n",
              "      <td>HVG</td>\n",
              "      <td>3</td>\n",
              "      <td>y</td>\n",
              "      <td>3.933594</td>\n",
              "      <td>34.0</td>\n",
              "      <td>15.001619</td>\n",
              "      <td>climbingdown</td>\n",
              "      <td>chest</td>\n",
              "    </tr>\n",
              "    <tr>\n",
              "      <th>716</th>\n",
              "      <td>HVG</td>\n",
              "      <td>3</td>\n",
              "      <td>z</td>\n",
              "      <td>3.939453</td>\n",
              "      <td>38.0</td>\n",
              "      <td>11.915701</td>\n",
              "      <td>climbingdown</td>\n",
              "      <td>chest</td>\n",
              "    </tr>\n",
              "    <tr>\n",
              "      <th>717</th>\n",
              "      <td>NVG</td>\n",
              "      <td>3</td>\n",
              "      <td>x</td>\n",
              "      <td>11.111328</td>\n",
              "      <td>9.0</td>\n",
              "      <td>4.097857</td>\n",
              "      <td>climbingdown</td>\n",
              "      <td>chest</td>\n",
              "    </tr>\n",
              "    <tr>\n",
              "      <th>718</th>\n",
              "      <td>NVG</td>\n",
              "      <td>3</td>\n",
              "      <td>y</td>\n",
              "      <td>16.359375</td>\n",
              "      <td>16.0</td>\n",
              "      <td>6.820122</td>\n",
              "      <td>climbingdown</td>\n",
              "      <td>chest</td>\n",
              "    </tr>\n",
              "    <tr>\n",
              "      <th>719</th>\n",
              "      <td>NVG</td>\n",
              "      <td>3</td>\n",
              "      <td>z</td>\n",
              "      <td>8.501953</td>\n",
              "      <td>9.0</td>\n",
              "      <td>4.644999</td>\n",
              "      <td>climbingdown</td>\n",
              "      <td>chest</td>\n",
              "    </tr>\n",
              "  </tbody>\n",
              "</table>\n",
              "<p>720 rows × 8 columns</p>\n",
              "</div>\n",
              "      <button class=\"colab-df-convert\" onclick=\"convertToInteractive('df-6221d677-22c8-4887-b7a6-408d69613ee6')\"\n",
              "              title=\"Convert this dataframe to an interactive table.\"\n",
              "              style=\"display:none;\">\n",
              "        \n",
              "  <svg xmlns=\"http://www.w3.org/2000/svg\" height=\"24px\"viewBox=\"0 0 24 24\"\n",
              "       width=\"24px\">\n",
              "    <path d=\"M0 0h24v24H0V0z\" fill=\"none\"/>\n",
              "    <path d=\"M18.56 5.44l.94 2.06.94-2.06 2.06-.94-2.06-.94-.94-2.06-.94 2.06-2.06.94zm-11 1L8.5 8.5l.94-2.06 2.06-.94-2.06-.94L8.5 2.5l-.94 2.06-2.06.94zm10 10l.94 2.06.94-2.06 2.06-.94-2.06-.94-.94-2.06-.94 2.06-2.06.94z\"/><path d=\"M17.41 7.96l-1.37-1.37c-.4-.4-.92-.59-1.43-.59-.52 0-1.04.2-1.43.59L10.3 9.45l-7.72 7.72c-.78.78-.78 2.05 0 2.83L4 21.41c.39.39.9.59 1.41.59.51 0 1.02-.2 1.41-.59l7.78-7.78 2.81-2.81c.8-.78.8-2.07 0-2.86zM5.41 20L4 18.59l7.72-7.72 1.47 1.35L5.41 20z\"/>\n",
              "  </svg>\n",
              "      </button>\n",
              "      \n",
              "  <style>\n",
              "    .colab-df-container {\n",
              "      display:flex;\n",
              "      flex-wrap:wrap;\n",
              "      gap: 12px;\n",
              "    }\n",
              "\n",
              "    .colab-df-convert {\n",
              "      background-color: #E8F0FE;\n",
              "      border: none;\n",
              "      border-radius: 50%;\n",
              "      cursor: pointer;\n",
              "      display: none;\n",
              "      fill: #1967D2;\n",
              "      height: 32px;\n",
              "      padding: 0 0 0 0;\n",
              "      width: 32px;\n",
              "    }\n",
              "\n",
              "    .colab-df-convert:hover {\n",
              "      background-color: #E2EBFA;\n",
              "      box-shadow: 0px 1px 2px rgba(60, 64, 67, 0.3), 0px 1px 3px 1px rgba(60, 64, 67, 0.15);\n",
              "      fill: #174EA6;\n",
              "    }\n",
              "\n",
              "    [theme=dark] .colab-df-convert {\n",
              "      background-color: #3B4455;\n",
              "      fill: #D2E3FC;\n",
              "    }\n",
              "\n",
              "    [theme=dark] .colab-df-convert:hover {\n",
              "      background-color: #434B5C;\n",
              "      box-shadow: 0px 1px 3px 1px rgba(0, 0, 0, 0.15);\n",
              "      filter: drop-shadow(0px 1px 2px rgba(0, 0, 0, 0.3));\n",
              "      fill: #FFFFFF;\n",
              "    }\n",
              "  </style>\n",
              "\n",
              "      <script>\n",
              "        const buttonEl =\n",
              "          document.querySelector('#df-6221d677-22c8-4887-b7a6-408d69613ee6 button.colab-df-convert');\n",
              "        buttonEl.style.display =\n",
              "          google.colab.kernel.accessAllowed ? 'block' : 'none';\n",
              "\n",
              "        async function convertToInteractive(key) {\n",
              "          const element = document.querySelector('#df-6221d677-22c8-4887-b7a6-408d69613ee6');\n",
              "          const dataTable =\n",
              "            await google.colab.kernel.invokeFunction('convertToInteractive',\n",
              "                                                     [key], {});\n",
              "          if (!dataTable) return;\n",
              "\n",
              "          const docLinkHtml = 'Like what you see? Visit the ' +\n",
              "            '<a target=\"_blank\" href=https://colab.research.google.com/notebooks/data_table.ipynb>data table notebook</a>'\n",
              "            + ' to learn more about interactive tables.';\n",
              "          element.innerHTML = '';\n",
              "          dataTable['output_type'] = 'display_data';\n",
              "          await google.colab.output.renderOutput(dataTable, element);\n",
              "          const docLink = document.createElement('div');\n",
              "          docLink.innerHTML = docLinkHtml;\n",
              "          element.appendChild(docLink);\n",
              "        }\n",
              "      </script>\n",
              "    </div>\n",
              "  </div>\n",
              "  "
            ]
          },
          "metadata": {},
          "execution_count": 9
        }
      ]
    },
    {
      "cell_type": "code",
      "source": [
        "ClimbingUp=ResultHead[ResultHead['Activity']=='climbingup']\n",
        "ClimbingDown=ResultHead[ResultHead['Activity']=='climbingdown']\n",
        "Running=ResultHead[ResultHead['Activity']=='running']\n",
        "Walking=ResultHead[ResultHead['Activity']=='walking']"
      ],
      "metadata": {
        "id": "_ANgVQltozpe"
      },
      "execution_count": null,
      "outputs": []
    },
    {
      "cell_type": "markdown",
      "source": [
        "### Scatter plot Climbing Up and Climbing Down\n"
      ],
      "metadata": {
        "id": "Cm5kcO6m8Fa0"
      }
    },
    {
      "cell_type": "markdown",
      "source": [
        "### Horizontal Visibility Graph"
      ],
      "metadata": {
        "id": "ufGZyg_w6kMu"
      }
    },
    {
      "cell_type": "code",
      "source": [
        "Climbing=ClimbingUp.append(ClimbingDown)\n",
        "Climbing"
      ],
      "metadata": {
        "colab": {
          "base_uri": "https://localhost:8080/",
          "height": 419
        },
        "id": "IF7WGD7jqLnM",
        "outputId": "58e5bf3b-2636-4bbb-adc2-c1a85e39857e"
      },
      "execution_count": null,
      "outputs": [
        {
          "output_type": "execute_result",
          "data": {
            "text/plain": [
              "    Method Subject Accelerometer Axis  Average Degree  Network Diameter  \\\n",
              "18     HVG       1                  x        3.951172              33.0   \n",
              "19     HVG       1                  y        3.921875              48.0   \n",
              "20     HVG       1                  z        3.921875              39.0   \n",
              "21     NVG       1                  x        9.167969              12.0   \n",
              "22     NVG       1                  y       18.816406               9.0   \n",
              "..     ...     ...                ...             ...               ...   \n",
              "343    HVG       1                  y        3.949219              25.0   \n",
              "344    HVG       1                  z        3.931641              48.0   \n",
              "345    NVG       1                  x       10.019531              13.0   \n",
              "346    NVG       1                  y       13.814453              10.0   \n",
              "347    NVG       1                  z       12.644531              10.0   \n",
              "\n",
              "     Average Path Length      Activity Body Part  \n",
              "18             13.551780    climbingup      head  \n",
              "19             21.289009    climbingup      head  \n",
              "20             16.455628    climbingup      head  \n",
              "21              5.033866    climbingup      head  \n",
              "22              4.386371    climbingup      head  \n",
              "..                   ...           ...       ...  \n",
              "343            10.861815  climbingdown      head  \n",
              "344            18.122953  climbingdown      head  \n",
              "345             5.308571  climbingdown      head  \n",
              "346             4.723846  climbingdown      head  \n",
              "347             4.611320  climbingdown      head  \n",
              "\n",
              "[180 rows x 8 columns]"
            ],
            "text/html": [
              "\n",
              "  <div id=\"df-a292c81e-8ca3-4374-8118-ee8708a2daea\">\n",
              "    <div class=\"colab-df-container\">\n",
              "      <div>\n",
              "<style scoped>\n",
              "    .dataframe tbody tr th:only-of-type {\n",
              "        vertical-align: middle;\n",
              "    }\n",
              "\n",
              "    .dataframe tbody tr th {\n",
              "        vertical-align: top;\n",
              "    }\n",
              "\n",
              "    .dataframe thead th {\n",
              "        text-align: right;\n",
              "    }\n",
              "</style>\n",
              "<table border=\"1\" class=\"dataframe\">\n",
              "  <thead>\n",
              "    <tr style=\"text-align: right;\">\n",
              "      <th></th>\n",
              "      <th>Method</th>\n",
              "      <th>Subject</th>\n",
              "      <th>Accelerometer Axis</th>\n",
              "      <th>Average Degree</th>\n",
              "      <th>Network Diameter</th>\n",
              "      <th>Average Path Length</th>\n",
              "      <th>Activity</th>\n",
              "      <th>Body Part</th>\n",
              "    </tr>\n",
              "  </thead>\n",
              "  <tbody>\n",
              "    <tr>\n",
              "      <th>18</th>\n",
              "      <td>HVG</td>\n",
              "      <td>1</td>\n",
              "      <td>x</td>\n",
              "      <td>3.951172</td>\n",
              "      <td>33.0</td>\n",
              "      <td>13.551780</td>\n",
              "      <td>climbingup</td>\n",
              "      <td>head</td>\n",
              "    </tr>\n",
              "    <tr>\n",
              "      <th>19</th>\n",
              "      <td>HVG</td>\n",
              "      <td>1</td>\n",
              "      <td>y</td>\n",
              "      <td>3.921875</td>\n",
              "      <td>48.0</td>\n",
              "      <td>21.289009</td>\n",
              "      <td>climbingup</td>\n",
              "      <td>head</td>\n",
              "    </tr>\n",
              "    <tr>\n",
              "      <th>20</th>\n",
              "      <td>HVG</td>\n",
              "      <td>1</td>\n",
              "      <td>z</td>\n",
              "      <td>3.921875</td>\n",
              "      <td>39.0</td>\n",
              "      <td>16.455628</td>\n",
              "      <td>climbingup</td>\n",
              "      <td>head</td>\n",
              "    </tr>\n",
              "    <tr>\n",
              "      <th>21</th>\n",
              "      <td>NVG</td>\n",
              "      <td>1</td>\n",
              "      <td>x</td>\n",
              "      <td>9.167969</td>\n",
              "      <td>12.0</td>\n",
              "      <td>5.033866</td>\n",
              "      <td>climbingup</td>\n",
              "      <td>head</td>\n",
              "    </tr>\n",
              "    <tr>\n",
              "      <th>22</th>\n",
              "      <td>NVG</td>\n",
              "      <td>1</td>\n",
              "      <td>y</td>\n",
              "      <td>18.816406</td>\n",
              "      <td>9.0</td>\n",
              "      <td>4.386371</td>\n",
              "      <td>climbingup</td>\n",
              "      <td>head</td>\n",
              "    </tr>\n",
              "    <tr>\n",
              "      <th>...</th>\n",
              "      <td>...</td>\n",
              "      <td>...</td>\n",
              "      <td>...</td>\n",
              "      <td>...</td>\n",
              "      <td>...</td>\n",
              "      <td>...</td>\n",
              "      <td>...</td>\n",
              "      <td>...</td>\n",
              "    </tr>\n",
              "    <tr>\n",
              "      <th>343</th>\n",
              "      <td>HVG</td>\n",
              "      <td>1</td>\n",
              "      <td>y</td>\n",
              "      <td>3.949219</td>\n",
              "      <td>25.0</td>\n",
              "      <td>10.861815</td>\n",
              "      <td>climbingdown</td>\n",
              "      <td>head</td>\n",
              "    </tr>\n",
              "    <tr>\n",
              "      <th>344</th>\n",
              "      <td>HVG</td>\n",
              "      <td>1</td>\n",
              "      <td>z</td>\n",
              "      <td>3.931641</td>\n",
              "      <td>48.0</td>\n",
              "      <td>18.122953</td>\n",
              "      <td>climbingdown</td>\n",
              "      <td>head</td>\n",
              "    </tr>\n",
              "    <tr>\n",
              "      <th>345</th>\n",
              "      <td>NVG</td>\n",
              "      <td>1</td>\n",
              "      <td>x</td>\n",
              "      <td>10.019531</td>\n",
              "      <td>13.0</td>\n",
              "      <td>5.308571</td>\n",
              "      <td>climbingdown</td>\n",
              "      <td>head</td>\n",
              "    </tr>\n",
              "    <tr>\n",
              "      <th>346</th>\n",
              "      <td>NVG</td>\n",
              "      <td>1</td>\n",
              "      <td>y</td>\n",
              "      <td>13.814453</td>\n",
              "      <td>10.0</td>\n",
              "      <td>4.723846</td>\n",
              "      <td>climbingdown</td>\n",
              "      <td>head</td>\n",
              "    </tr>\n",
              "    <tr>\n",
              "      <th>347</th>\n",
              "      <td>NVG</td>\n",
              "      <td>1</td>\n",
              "      <td>z</td>\n",
              "      <td>12.644531</td>\n",
              "      <td>10.0</td>\n",
              "      <td>4.611320</td>\n",
              "      <td>climbingdown</td>\n",
              "      <td>head</td>\n",
              "    </tr>\n",
              "  </tbody>\n",
              "</table>\n",
              "<p>180 rows × 8 columns</p>\n",
              "</div>\n",
              "      <button class=\"colab-df-convert\" onclick=\"convertToInteractive('df-a292c81e-8ca3-4374-8118-ee8708a2daea')\"\n",
              "              title=\"Convert this dataframe to an interactive table.\"\n",
              "              style=\"display:none;\">\n",
              "        \n",
              "  <svg xmlns=\"http://www.w3.org/2000/svg\" height=\"24px\"viewBox=\"0 0 24 24\"\n",
              "       width=\"24px\">\n",
              "    <path d=\"M0 0h24v24H0V0z\" fill=\"none\"/>\n",
              "    <path d=\"M18.56 5.44l.94 2.06.94-2.06 2.06-.94-2.06-.94-.94-2.06-.94 2.06-2.06.94zm-11 1L8.5 8.5l.94-2.06 2.06-.94-2.06-.94L8.5 2.5l-.94 2.06-2.06.94zm10 10l.94 2.06.94-2.06 2.06-.94-2.06-.94-.94-2.06-.94 2.06-2.06.94z\"/><path d=\"M17.41 7.96l-1.37-1.37c-.4-.4-.92-.59-1.43-.59-.52 0-1.04.2-1.43.59L10.3 9.45l-7.72 7.72c-.78.78-.78 2.05 0 2.83L4 21.41c.39.39.9.59 1.41.59.51 0 1.02-.2 1.41-.59l7.78-7.78 2.81-2.81c.8-.78.8-2.07 0-2.86zM5.41 20L4 18.59l7.72-7.72 1.47 1.35L5.41 20z\"/>\n",
              "  </svg>\n",
              "      </button>\n",
              "      \n",
              "  <style>\n",
              "    .colab-df-container {\n",
              "      display:flex;\n",
              "      flex-wrap:wrap;\n",
              "      gap: 12px;\n",
              "    }\n",
              "\n",
              "    .colab-df-convert {\n",
              "      background-color: #E8F0FE;\n",
              "      border: none;\n",
              "      border-radius: 50%;\n",
              "      cursor: pointer;\n",
              "      display: none;\n",
              "      fill: #1967D2;\n",
              "      height: 32px;\n",
              "      padding: 0 0 0 0;\n",
              "      width: 32px;\n",
              "    }\n",
              "\n",
              "    .colab-df-convert:hover {\n",
              "      background-color: #E2EBFA;\n",
              "      box-shadow: 0px 1px 2px rgba(60, 64, 67, 0.3), 0px 1px 3px 1px rgba(60, 64, 67, 0.15);\n",
              "      fill: #174EA6;\n",
              "    }\n",
              "\n",
              "    [theme=dark] .colab-df-convert {\n",
              "      background-color: #3B4455;\n",
              "      fill: #D2E3FC;\n",
              "    }\n",
              "\n",
              "    [theme=dark] .colab-df-convert:hover {\n",
              "      background-color: #434B5C;\n",
              "      box-shadow: 0px 1px 3px 1px rgba(0, 0, 0, 0.15);\n",
              "      filter: drop-shadow(0px 1px 2px rgba(0, 0, 0, 0.3));\n",
              "      fill: #FFFFFF;\n",
              "    }\n",
              "  </style>\n",
              "\n",
              "      <script>\n",
              "        const buttonEl =\n",
              "          document.querySelector('#df-a292c81e-8ca3-4374-8118-ee8708a2daea button.colab-df-convert');\n",
              "        buttonEl.style.display =\n",
              "          google.colab.kernel.accessAllowed ? 'block' : 'none';\n",
              "\n",
              "        async function convertToInteractive(key) {\n",
              "          const element = document.querySelector('#df-a292c81e-8ca3-4374-8118-ee8708a2daea');\n",
              "          const dataTable =\n",
              "            await google.colab.kernel.invokeFunction('convertToInteractive',\n",
              "                                                     [key], {});\n",
              "          if (!dataTable) return;\n",
              "\n",
              "          const docLinkHtml = 'Like what you see? Visit the ' +\n",
              "            '<a target=\"_blank\" href=https://colab.research.google.com/notebooks/data_table.ipynb>data table notebook</a>'\n",
              "            + ' to learn more about interactive tables.';\n",
              "          element.innerHTML = '';\n",
              "          dataTable['output_type'] = 'display_data';\n",
              "          await google.colab.output.renderOutput(dataTable, element);\n",
              "          const docLink = document.createElement('div');\n",
              "          docLink.innerHTML = docLinkHtml;\n",
              "          element.appendChild(docLink);\n",
              "        }\n",
              "      </script>\n",
              "    </div>\n",
              "  </div>\n",
              "  "
            ]
          },
          "metadata": {},
          "execution_count": 104
        }
      ]
    },
    {
      "cell_type": "code",
      "source": [
        "Climbing=Climbing[Climbing['Method']=='HVG']"
      ],
      "metadata": {
        "id": "dIrzI5qQ6rkW"
      },
      "execution_count": null,
      "outputs": []
    },
    {
      "cell_type": "code",
      "source": [
        "sns.scatterplot(x=Climbing['Average Degree'], y=Climbing['Network Diameter'], hue=Climbing['Activity']).set(title='Based on all axis')"
      ],
      "metadata": {
        "colab": {
          "base_uri": "https://localhost:8080/",
          "height": 312
        },
        "id": "5pGTZiGjq8M0",
        "outputId": "d80b55c6-d2cd-4954-f136-f0db19fa5aa6"
      },
      "execution_count": null,
      "outputs": [
        {
          "output_type": "execute_result",
          "data": {
            "text/plain": [
              "[Text(0.5, 1.0, 'Based on all axis')]"
            ]
          },
          "metadata": {},
          "execution_count": 106
        },
        {
          "output_type": "display_data",
          "data": {
            "text/plain": [
              "<Figure size 432x288 with 1 Axes>"
            ],
            "image/png": "[encoded data removed]"
          },
          "metadata": {
            "needs_background": "light"
          }
        }
      ]
    },
    {
      "cell_type": "code",
      "source": [
        "ClimbingX=Climbing[Climbing['Accelerometer Axis']=='x']\n",
        "sns.scatterplot(x=ClimbingX['Average Degree'], y=ClimbingX['Network Diameter'], hue=ClimbingX['Activity']).set(title=\"Based on X-axis\")"
      ],
      "metadata": {
        "colab": {
          "base_uri": "https://localhost:8080/",
          "height": 312
        },
        "id": "kkITXM6zrLNO",
        "outputId": "475e702a-632a-4717-cafa-3b1775751c2f"
      },
      "execution_count": null,
      "outputs": [
        {
          "output_type": "execute_result",
          "data": {
            "text/plain": [
              "[Text(0.5, 1.0, 'Based on X-axis')]"
            ]
          },
          "metadata": {},
          "execution_count": 107
        },
        {
          "output_type": "display_data",
          "data": {
            "text/plain": [
              "<Figure size 432x288 with 1 Axes>"
            ],
            "image/png": "[encoded data removed]"
          },
          "metadata": {
            "needs_background": "light"
          }
        }
      ]
    },
    {
      "cell_type": "code",
      "source": [
        "ClimbingY=Climbing[Climbing['Accelerometer Axis']=='y']\n",
        "sns.scatterplot(x=ClimbingY['Average Degree'], y=ClimbingY['Network Diameter'], hue=ClimbingY['Activity']).set(title=\"Based on Y-axis\")"
      ],
      "metadata": {
        "colab": {
          "base_uri": "https://localhost:8080/",
          "height": 312
        },
        "id": "BV1JjMAArNSA",
        "outputId": "a5fcc956-505c-4a56-b92a-abbc61e97188"
      },
      "execution_count": null,
      "outputs": [
        {
          "output_type": "execute_result",
          "data": {
            "text/plain": [
              "[Text(0.5, 1.0, 'Based on Y-axis')]"
            ]
          },
          "metadata": {},
          "execution_count": 108
        },
        {
          "output_type": "display_data",
          "data": {
            "text/plain": [
              "<Figure size 432x288 with 1 Axes>"
            ],
            "image/png": "[encoded data removed]"
          },
          "metadata": {
            "needs_background": "light"
          }
        }
      ]
    },
    {
      "cell_type": "code",
      "source": [
        "ClimbingZ=Climbing[Climbing['Accelerometer Axis']=='z']\n",
        "sns.scatterplot(x=ClimbingZ['Average Degree'], y=ClimbingZ['Network Diameter'], hue=ClimbingZ['Activity']).set(title=\"Based on Z-axis\")"
      ],
      "metadata": {
        "colab": {
          "base_uri": "https://localhost:8080/",
          "height": 312
        },
        "id": "EhphvkL0seOl",
        "outputId": "1d8f30c3-8b4e-4cd5-daf6-6bbef8ba0c6b"
      },
      "execution_count": null,
      "outputs": [
        {
          "output_type": "execute_result",
          "data": {
            "text/plain": [
              "[Text(0.5, 1.0, 'Based on Z-axis')]"
            ]
          },
          "metadata": {},
          "execution_count": 109
        },
        {
          "output_type": "display_data",
          "data": {
            "text/plain": [
              "<Figure size 432x288 with 1 Axes>"
            ],
            "image/png": "[encoded data removed]"
          },
          "metadata": {
            "needs_background": "light"
          }
        }
      ]
    },
    {
      "cell_type": "markdown",
      "source": [
        "### Natural Visibility Graph"
      ],
      "metadata": {
        "id": "YvMc2TCl7qN7"
      }
    },
    {
      "cell_type": "code",
      "source": [
        "Climbing=ClimbingUp.append(ClimbingDown)\n",
        "Climbing"
      ],
      "metadata": {
        "colab": {
          "base_uri": "https://localhost:8080/",
          "height": 419
        },
        "id": "ptjVHeV09AmE",
        "outputId": "630d98cc-385a-4ae5-dc4a-b983366261f5"
      },
      "execution_count": null,
      "outputs": [
        {
          "output_type": "execute_result",
          "data": {
            "text/plain": [
              "    Method Subject Accelerometer Axis  Average Degree  Network Diameter  \\\n",
              "18     HVG       1                  x        3.951172              33.0   \n",
              "19     HVG       1                  y        3.921875              48.0   \n",
              "20     HVG       1                  z        3.921875              39.0   \n",
              "21     NVG       1                  x        9.167969              12.0   \n",
              "22     NVG       1                  y       18.816406               9.0   \n",
              "..     ...     ...                ...             ...               ...   \n",
              "343    HVG       1                  y        3.949219              25.0   \n",
              "344    HVG       1                  z        3.931641              48.0   \n",
              "345    NVG       1                  x       10.019531              13.0   \n",
              "346    NVG       1                  y       13.814453              10.0   \n",
              "347    NVG       1                  z       12.644531              10.0   \n",
              "\n",
              "     Average Path Length      Activity Body Part  \n",
              "18             13.551780    climbingup      head  \n",
              "19             21.289009    climbingup      head  \n",
              "20             16.455628    climbingup      head  \n",
              "21              5.033866    climbingup      head  \n",
              "22              4.386371    climbingup      head  \n",
              "..                   ...           ...       ...  \n",
              "343            10.861815  climbingdown      head  \n",
              "344            18.122953  climbingdown      head  \n",
              "345             5.308571  climbingdown      head  \n",
              "346             4.723846  climbingdown      head  \n",
              "347             4.611320  climbingdown      head  \n",
              "\n",
              "[180 rows x 8 columns]"
            ],
            "text/html": [
              "\n",
              "  <div id=\"df-3155e3fc-2017-4f1a-93a6-c1c44ee6a972\">\n",
              "    <div class=\"colab-df-container\">\n",
              "      <div>\n",
              "<style scoped>\n",
              "    .dataframe tbody tr th:only-of-type {\n",
              "        vertical-align: middle;\n",
              "    }\n",
              "\n",
              "    .dataframe tbody tr th {\n",
              "        vertical-align: top;\n",
              "    }\n",
              "\n",
              "    .dataframe thead th {\n",
              "        text-align: right;\n",
              "    }\n",
              "</style>\n",
              "<table border=\"1\" class=\"dataframe\">\n",
              "  <thead>\n",
              "    <tr style=\"text-align: right;\">\n",
              "      <th></th>\n",
              "      <th>Method</th>\n",
              "      <th>Subject</th>\n",
              "      <th>Accelerometer Axis</th>\n",
              "      <th>Average Degree</th>\n",
              "      <th>Network Diameter</th>\n",
              "      <th>Average Path Length</th>\n",
              "      <th>Activity</th>\n",
              "      <th>Body Part</th>\n",
              "    </tr>\n",
              "  </thead>\n",
              "  <tbody>\n",
              "    <tr>\n",
              "      <th>18</th>\n",
              "      <td>HVG</td>\n",
              "      <td>1</td>\n",
              "      <td>x</td>\n",
              "      <td>3.951172</td>\n",
              "      <td>33.0</td>\n",
              "      <td>13.551780</td>\n",
              "      <td>climbingup</td>\n",
              "      <td>head</td>\n",
              "    </tr>\n",
              "    <tr>\n",
              "      <th>19</th>\n",
              "      <td>HVG</td>\n",
              "      <td>1</td>\n",
              "      <td>y</td>\n",
              "      <td>3.921875</td>\n",
              "      <td>48.0</td>\n",
              "      <td>21.289009</td>\n",
              "      <td>climbingup</td>\n",
              "      <td>head</td>\n",
              "    </tr>\n",
              "    <tr>\n",
              "      <th>20</th>\n",
              "      <td>HVG</td>\n",
              "      <td>1</td>\n",
              "      <td>z</td>\n",
              "      <td>3.921875</td>\n",
              "      <td>39.0</td>\n",
              "      <td>16.455628</td>\n",
              "      <td>climbingup</td>\n",
              "      <td>head</td>\n",
              "    </tr>\n",
              "    <tr>\n",
              "      <th>21</th>\n",
              "      <td>NVG</td>\n",
              "      <td>1</td>\n",
              "      <td>x</td>\n",
              "      <td>9.167969</td>\n",
              "      <td>12.0</td>\n",
              "      <td>5.033866</td>\n",
              "      <td>climbingup</td>\n",
              "      <td>head</td>\n",
              "    </tr>\n",
              "    <tr>\n",
              "      <th>22</th>\n",
              "      <td>NVG</td>\n",
              "      <td>1</td>\n",
              "      <td>y</td>\n",
              "      <td>18.816406</td>\n",
              "      <td>9.0</td>\n",
              "      <td>4.386371</td>\n",
              "      <td>climbingup</td>\n",
              "      <td>head</td>\n",
              "    </tr>\n",
              "    <tr>\n",
              "      <th>...</th>\n",
              "      <td>...</td>\n",
              "      <td>...</td>\n",
              "      <td>...</td>\n",
              "      <td>...</td>\n",
              "      <td>...</td>\n",
              "      <td>...</td>\n",
              "      <td>...</td>\n",
              "      <td>...</td>\n",
              "    </tr>\n",
              "    <tr>\n",
              "      <th>343</th>\n",
              "      <td>HVG</td>\n",
              "      <td>1</td>\n",
              "      <td>y</td>\n",
              "      <td>3.949219</td>\n",
              "      <td>25.0</td>\n",
              "      <td>10.861815</td>\n",
              "      <td>climbingdown</td>\n",
              "      <td>head</td>\n",
              "    </tr>\n",
              "    <tr>\n",
              "      <th>344</th>\n",
              "      <td>HVG</td>\n",
              "      <td>1</td>\n",
              "      <td>z</td>\n",
              "      <td>3.931641</td>\n",
              "      <td>48.0</td>\n",
              "      <td>18.122953</td>\n",
              "      <td>climbingdown</td>\n",
              "      <td>head</td>\n",
              "    </tr>\n",
              "    <tr>\n",
              "      <th>345</th>\n",
              "      <td>NVG</td>\n",
              "      <td>1</td>\n",
              "      <td>x</td>\n",
              "      <td>10.019531</td>\n",
              "      <td>13.0</td>\n",
              "      <td>5.308571</td>\n",
              "      <td>climbingdown</td>\n",
              "      <td>head</td>\n",
              "    </tr>\n",
              "    <tr>\n",
              "      <th>346</th>\n",
              "      <td>NVG</td>\n",
              "      <td>1</td>\n",
              "      <td>y</td>\n",
              "      <td>13.814453</td>\n",
              "      <td>10.0</td>\n",
              "      <td>4.723846</td>\n",
              "      <td>climbingdown</td>\n",
              "      <td>head</td>\n",
              "    </tr>\n",
              "    <tr>\n",
              "      <th>347</th>\n",
              "      <td>NVG</td>\n",
              "      <td>1</td>\n",
              "      <td>z</td>\n",
              "      <td>12.644531</td>\n",
              "      <td>10.0</td>\n",
              "      <td>4.611320</td>\n",
              "      <td>climbingdown</td>\n",
              "      <td>head</td>\n",
              "    </tr>\n",
              "  </tbody>\n",
              "</table>\n",
              "<p>180 rows × 8 columns</p>\n",
              "</div>\n",
              "      <button class=\"colab-df-convert\" onclick=\"convertToInteractive('df-3155e3fc-2017-4f1a-93a6-c1c44ee6a972')\"\n",
              "              title=\"Convert this dataframe to an interactive table.\"\n",
              "              style=\"display:none;\">\n",
              "        \n",
              "  <svg xmlns=\"http://www.w3.org/2000/svg\" height=\"24px\"viewBox=\"0 0 24 24\"\n",
              "       width=\"24px\">\n",
              "    <path d=\"M0 0h24v24H0V0z\" fill=\"none\"/>\n",
              "    <path d=\"M18.56 5.44l.94 2.06.94-2.06 2.06-.94-2.06-.94-.94-2.06-.94 2.06-2.06.94zm-11 1L8.5 8.5l.94-2.06 2.06-.94-2.06-.94L8.5 2.5l-.94 2.06-2.06.94zm10 10l.94 2.06.94-2.06 2.06-.94-2.06-.94-.94-2.06-.94 2.06-2.06.94z\"/><path d=\"M17.41 7.96l-1.37-1.37c-.4-.4-.92-.59-1.43-.59-.52 0-1.04.2-1.43.59L10.3 9.45l-7.72 7.72c-.78.78-.78 2.05 0 2.83L4 21.41c.39.39.9.59 1.41.59.51 0 1.02-.2 1.41-.59l7.78-7.78 2.81-2.81c.8-.78.8-2.07 0-2.86zM5.41 20L4 18.59l7.72-7.72 1.47 1.35L5.41 20z\"/>\n",
              "  </svg>\n",
              "      </button>\n",
              "      \n",
              "  <style>\n",
              "    .colab-df-container {\n",
              "      display:flex;\n",
              "      flex-wrap:wrap;\n",
              "      gap: 12px;\n",
              "    }\n",
              "\n",
              "    .colab-df-convert {\n",
              "      background-color: #E8F0FE;\n",
              "      border: none;\n",
              "      border-radius: 50%;\n",
              "      cursor: pointer;\n",
              "      display: none;\n",
              "      fill: #1967D2;\n",
              "      height: 32px;\n",
              "      padding: 0 0 0 0;\n",
              "      width: 32px;\n",
              "    }\n",
              "\n",
              "    .colab-df-convert:hover {\n",
              "      background-color: #E2EBFA;\n",
              "      box-shadow: 0px 1px 2px rgba(60, 64, 67, 0.3), 0px 1px 3px 1px rgba(60, 64, 67, 0.15);\n",
              "      fill: #174EA6;\n",
              "    }\n",
              "\n",
              "    [theme=dark] .colab-df-convert {\n",
              "      background-color: #3B4455;\n",
              "      fill: #D2E3FC;\n",
              "    }\n",
              "\n",
              "    [theme=dark] .colab-df-convert:hover {\n",
              "      background-color: #434B5C;\n",
              "      box-shadow: 0px 1px 3px 1px rgba(0, 0, 0, 0.15);\n",
              "      filter: drop-shadow(0px 1px 2px rgba(0, 0, 0, 0.3));\n",
              "      fill: #FFFFFF;\n",
              "    }\n",
              "  </style>\n",
              "\n",
              "      <script>\n",
              "        const buttonEl =\n",
              "          document.querySelector('#df-3155e3fc-2017-4f1a-93a6-c1c44ee6a972 button.colab-df-convert');\n",
              "        buttonEl.style.display =\n",
              "          google.colab.kernel.accessAllowed ? 'block' : 'none';\n",
              "\n",
              "        async function convertToInteractive(key) {\n",
              "          const element = document.querySelector('#df-3155e3fc-2017-4f1a-93a6-c1c44ee6a972');\n",
              "          const dataTable =\n",
              "            await google.colab.kernel.invokeFunction('convertToInteractive',\n",
              "                                                     [key], {});\n",
              "          if (!dataTable) return;\n",
              "\n",
              "          const docLinkHtml = 'Like what you see? Visit the ' +\n",
              "            '<a target=\"_blank\" href=https://colab.research.google.com/notebooks/data_table.ipynb>data table notebook</a>'\n",
              "            + ' to learn more about interactive tables.';\n",
              "          element.innerHTML = '';\n",
              "          dataTable['output_type'] = 'display_data';\n",
              "          await google.colab.output.renderOutput(dataTable, element);\n",
              "          const docLink = document.createElement('div');\n",
              "          docLink.innerHTML = docLinkHtml;\n",
              "          element.appendChild(docLink);\n",
              "        }\n",
              "      </script>\n",
              "    </div>\n",
              "  </div>\n",
              "  "
            ]
          },
          "metadata": {},
          "execution_count": 110
        }
      ]
    },
    {
      "cell_type": "code",
      "source": [
        "Climbing=Climbing[Climbing['Method']=='NVG']"
      ],
      "metadata": {
        "id": "nzqsUJgn80Bf"
      },
      "execution_count": null,
      "outputs": []
    },
    {
      "cell_type": "code",
      "source": [
        "sns.scatterplot(x=Climbing['Average Degree'], y=Climbing['Network Diameter'], hue=Climbing['Activity']).set(title='Based on all axis')"
      ],
      "metadata": {
        "colab": {
          "base_uri": "https://localhost:8080/",
          "height": 312
        },
        "id": "FPWKzIPf80Bg",
        "outputId": "0834229c-1b71-4c46-c92d-c49a4e8570f4"
      },
      "execution_count": null,
      "outputs": [
        {
          "output_type": "execute_result",
          "data": {
            "text/plain": [
              "[Text(0.5, 1.0, 'Based on all axis')]"
            ]
          },
          "metadata": {},
          "execution_count": 112
        },
        {
          "output_type": "display_data",
          "data": {
            "text/plain": [
              "<Figure size 432x288 with 1 Axes>"
            ],
            "image/png": "[encoded data removed]"
          },
          "metadata": {
            "needs_background": "light"
          }
        }
      ]
    },
    {
      "cell_type": "code",
      "source": [
        "ClimbingX=Climbing[Climbing['Accelerometer Axis']=='x']\n",
        "sns.scatterplot(x=ClimbingX['Average Degree'], y=ClimbingX['Network Diameter'], hue=ClimbingX['Activity']).set(title=\"Based on X-axis\")"
      ],
      "metadata": {
        "colab": {
          "base_uri": "https://localhost:8080/",
          "height": 312
        },
        "id": "H3ESbM8L80Bg",
        "outputId": "a0d06bb2-c832-4beb-c04c-f071a912fb75"
      },
      "execution_count": null,
      "outputs": [
        {
          "output_type": "execute_result",
          "data": {
            "text/plain": [
              "[Text(0.5, 1.0, 'Based on X-axis')]"
            ]
          },
          "metadata": {},
          "execution_count": 113
        },
        {
          "output_type": "display_data",
          "data": {
            "text/plain": [
              "<Figure size 432x288 with 1 Axes>"
            ],
            "image/png": "[encoded data removed]"
          },
          "metadata": {
            "needs_background": "light"
          }
        }
      ]
    },
    {
      "cell_type": "code",
      "source": [
        "ClimbingY=Climbing[Climbing['Accelerometer Axis']=='y']\n",
        "sns.scatterplot(x=ClimbingY['Average Degree'], y=ClimbingY['Network Diameter'], hue=ClimbingY['Activity']).set(title=\"Based on Y-axis\")"
      ],
      "metadata": {
        "colab": {
          "base_uri": "https://localhost:8080/",
          "height": 312
        },
        "id": "rfNcN5-380Bg",
        "outputId": "4e3f21a6-aa35-4c98-f7e0-53254af3d36f"
      },
      "execution_count": null,
      "outputs": [
        {
          "output_type": "execute_result",
          "data": {
            "text/plain": [
              "[Text(0.5, 1.0, 'Based on Y-axis')]"
            ]
          },
          "metadata": {},
          "execution_count": 114
        },
        {
          "output_type": "display_data",
          "data": {
            "text/plain": [
              "<Figure size 432x288 with 1 Axes>"
            ],
            "image/png": "[encoded data removed]"
          },
          "metadata": {
            "needs_background": "light"
          }
        }
      ]
    },
    {
      "cell_type": "code",
      "source": [
        "ClimbingZ=Climbing[Climbing['Accelerometer Axis']=='z']\n",
        "sns.scatterplot(x=ClimbingZ['Average Degree'], y=ClimbingZ['Network Diameter'], hue=ClimbingZ['Activity']).set(title=\"Based on Z-axis\")"
      ],
      "metadata": {
        "colab": {
          "base_uri": "https://localhost:8080/",
          "height": 312
        },
        "id": "oDAyxiA180Bh",
        "outputId": "221541e4-3a3a-412e-e5d1-7eb0741e9a82"
      },
      "execution_count": null,
      "outputs": [
        {
          "output_type": "execute_result",
          "data": {
            "text/plain": [
              "[Text(0.5, 1.0, 'Based on Z-axis')]"
            ]
          },
          "metadata": {},
          "execution_count": 115
        },
        {
          "output_type": "display_data",
          "data": {
            "text/plain": [
              "<Figure size 432x288 with 1 Axes>"
            ],
            "image/png": "[encoded data removed]"
          },
          "metadata": {
            "needs_background": "light"
          }
        }
      ]
    },
    {
      "cell_type": "markdown",
      "source": [
        "### Scatter Plot for Running and Walking"
      ],
      "metadata": {
        "id": "2zQLQY8D9c0F"
      }
    },
    {
      "cell_type": "markdown",
      "source": [
        "### Horizontal Visibility Graph"
      ],
      "metadata": {
        "id": "1gPBR8wF9io4"
      }
    },
    {
      "cell_type": "code",
      "source": [
        "RunWalk=Running.append(Walking)\n",
        "RunWalk"
      ],
      "metadata": {
        "id": "jcMt-8c45ddd",
        "colab": {
          "base_uri": "https://localhost:8080/",
          "height": 419
        },
        "outputId": "e744265c-f8d4-4060-d826-eba9051a1150"
      },
      "execution_count": null,
      "outputs": [
        {
          "output_type": "execute_result",
          "data": {
            "text/plain": [
              "    Method Subject Accelerometer Axis  Average Degree  Network Diameter  \\\n",
              "372    HVG       1                  x        3.964844              18.0   \n",
              "373    HVG       1                  y        3.953125              22.0   \n",
              "374    HVG       1                  z        3.964844              21.0   \n",
              "375    NVG       1                  x        6.464844               9.0   \n",
              "376    NVG       1                  y        8.330078              11.0   \n",
              "..     ...     ...                ...             ...               ...   \n",
              "715    HVG       1                  y        3.966797              24.0   \n",
              "716    HVG       1                  z        3.914062              39.0   \n",
              "717    NVG       1                  x       12.492188              11.0   \n",
              "718    NVG       1                  y       13.187500               9.0   \n",
              "719    NVG       1                  z       12.974609              13.0   \n",
              "\n",
              "     Average Path Length Activity Body Part  \n",
              "372             7.633704  running      head  \n",
              "373             8.268401  running      head  \n",
              "374            10.148143  running      head  \n",
              "375             4.907564  running      head  \n",
              "376             5.192731  running      head  \n",
              "..                   ...      ...       ...  \n",
              "715            10.074499  walking      head  \n",
              "716            14.945923  walking      head  \n",
              "717             4.518703  walking      head  \n",
              "718             4.281492  walking      head  \n",
              "719             5.146120  walking      head  \n",
              "\n",
              "[180 rows x 8 columns]"
            ],
            "text/html": [
              "\n",
              "  <div id=\"df-1f2c63fc-4928-4d6b-a2a5-39b770be9f8b\">\n",
              "    <div class=\"colab-df-container\">\n",
              "      <div>\n",
              "<style scoped>\n",
              "    .dataframe tbody tr th:only-of-type {\n",
              "        vertical-align: middle;\n",
              "    }\n",
              "\n",
              "    .dataframe tbody tr th {\n",
              "        vertical-align: top;\n",
              "    }\n",
              "\n",
              "    .dataframe thead th {\n",
              "        text-align: right;\n",
              "    }\n",
              "</style>\n",
              "<table border=\"1\" class=\"dataframe\">\n",
              "  <thead>\n",
              "    <tr style=\"text-align: right;\">\n",
              "      <th></th>\n",
              "      <th>Method</th>\n",
              "      <th>Subject</th>\n",
              "      <th>Accelerometer Axis</th>\n",
              "      <th>Average Degree</th>\n",
              "      <th>Network Diameter</th>\n",
              "      <th>Average Path Length</th>\n",
              "      <th>Activity</th>\n",
              "      <th>Body Part</th>\n",
              "    </tr>\n",
              "  </thead>\n",
              "  <tbody>\n",
              "    <tr>\n",
              "      <th>372</th>\n",
              "      <td>HVG</td>\n",
              "      <td>1</td>\n",
              "      <td>x</td>\n",
              "      <td>3.964844</td>\n",
              "      <td>18.0</td>\n",
              "      <td>7.633704</td>\n",
              "      <td>running</td>\n",
              "      <td>head</td>\n",
              "    </tr>\n",
              "    <tr>\n",
              "      <th>373</th>\n",
              "      <td>HVG</td>\n",
              "      <td>1</td>\n",
              "      <td>y</td>\n",
              "      <td>3.953125</td>\n",
              "      <td>22.0</td>\n",
              "      <td>8.268401</td>\n",
              "      <td>running</td>\n",
              "      <td>head</td>\n",
              "    </tr>\n",
              "    <tr>\n",
              "      <th>374</th>\n",
              "      <td>HVG</td>\n",
              "      <td>1</td>\n",
              "      <td>z</td>\n",
              "      <td>3.964844</td>\n",
              "      <td>21.0</td>\n",
              "      <td>10.148143</td>\n",
              "      <td>running</td>\n",
              "      <td>head</td>\n",
              "    </tr>\n",
              "    <tr>\n",
              "      <th>375</th>\n",
              "      <td>NVG</td>\n",
              "      <td>1</td>\n",
              "      <td>x</td>\n",
              "      <td>6.464844</td>\n",
              "      <td>9.0</td>\n",
              "      <td>4.907564</td>\n",
              "      <td>running</td>\n",
              "      <td>head</td>\n",
              "    </tr>\n",
              "    <tr>\n",
              "      <th>376</th>\n",
              "      <td>NVG</td>\n",
              "      <td>1</td>\n",
              "      <td>y</td>\n",
              "      <td>8.330078</td>\n",
              "      <td>11.0</td>\n",
              "      <td>5.192731</td>\n",
              "      <td>running</td>\n",
              "      <td>head</td>\n",
              "    </tr>\n",
              "    <tr>\n",
              "      <th>...</th>\n",
              "      <td>...</td>\n",
              "      <td>...</td>\n",
              "      <td>...</td>\n",
              "      <td>...</td>\n",
              "      <td>...</td>\n",
              "      <td>...</td>\n",
              "      <td>...</td>\n",
              "      <td>...</td>\n",
              "    </tr>\n",
              "    <tr>\n",
              "      <th>715</th>\n",
              "      <td>HVG</td>\n",
              "      <td>1</td>\n",
              "      <td>y</td>\n",
              "      <td>3.966797</td>\n",
              "      <td>24.0</td>\n",
              "      <td>10.074499</td>\n",
              "      <td>walking</td>\n",
              "      <td>head</td>\n",
              "    </tr>\n",
              "    <tr>\n",
              "      <th>716</th>\n",
              "      <td>HVG</td>\n",
              "      <td>1</td>\n",
              "      <td>z</td>\n",
              "      <td>3.914062</td>\n",
              "      <td>39.0</td>\n",
              "      <td>14.945923</td>\n",
              "      <td>walking</td>\n",
              "      <td>head</td>\n",
              "    </tr>\n",
              "    <tr>\n",
              "      <th>717</th>\n",
              "      <td>NVG</td>\n",
              "      <td>1</td>\n",
              "      <td>x</td>\n",
              "      <td>12.492188</td>\n",
              "      <td>11.0</td>\n",
              "      <td>4.518703</td>\n",
              "      <td>walking</td>\n",
              "      <td>head</td>\n",
              "    </tr>\n",
              "    <tr>\n",
              "      <th>718</th>\n",
              "      <td>NVG</td>\n",
              "      <td>1</td>\n",
              "      <td>y</td>\n",
              "      <td>13.187500</td>\n",
              "      <td>9.0</td>\n",
              "      <td>4.281492</td>\n",
              "      <td>walking</td>\n",
              "      <td>head</td>\n",
              "    </tr>\n",
              "    <tr>\n",
              "      <th>719</th>\n",
              "      <td>NVG</td>\n",
              "      <td>1</td>\n",
              "      <td>z</td>\n",
              "      <td>12.974609</td>\n",
              "      <td>13.0</td>\n",
              "      <td>5.146120</td>\n",
              "      <td>walking</td>\n",
              "      <td>head</td>\n",
              "    </tr>\n",
              "  </tbody>\n",
              "</table>\n",
              "<p>180 rows × 8 columns</p>\n",
              "</div>\n",
              "      <button class=\"colab-df-convert\" onclick=\"convertToInteractive('df-1f2c63fc-4928-4d6b-a2a5-39b770be9f8b')\"\n",
              "              title=\"Convert this dataframe to an interactive table.\"\n",
              "              style=\"display:none;\">\n",
              "        \n",
              "  <svg xmlns=\"http://www.w3.org/2000/svg\" height=\"24px\"viewBox=\"0 0 24 24\"\n",
              "       width=\"24px\">\n",
              "    <path d=\"M0 0h24v24H0V0z\" fill=\"none\"/>\n",
              "    <path d=\"M18.56 5.44l.94 2.06.94-2.06 2.06-.94-2.06-.94-.94-2.06-.94 2.06-2.06.94zm-11 1L8.5 8.5l.94-2.06 2.06-.94-2.06-.94L8.5 2.5l-.94 2.06-2.06.94zm10 10l.94 2.06.94-2.06 2.06-.94-2.06-.94-.94-2.06-.94 2.06-2.06.94z\"/><path d=\"M17.41 7.96l-1.37-1.37c-.4-.4-.92-.59-1.43-.59-.52 0-1.04.2-1.43.59L10.3 9.45l-7.72 7.72c-.78.78-.78 2.05 0 2.83L4 21.41c.39.39.9.59 1.41.59.51 0 1.02-.2 1.41-.59l7.78-7.78 2.81-2.81c.8-.78.8-2.07 0-2.86zM5.41 20L4 18.59l7.72-7.72 1.47 1.35L5.41 20z\"/>\n",
              "  </svg>\n",
              "      </button>\n",
              "      \n",
              "  <style>\n",
              "    .colab-df-container {\n",
              "      display:flex;\n",
              "      flex-wrap:wrap;\n",
              "      gap: 12px;\n",
              "    }\n",
              "\n",
              "    .colab-df-convert {\n",
              "      background-color: #E8F0FE;\n",
              "      border: none;\n",
              "      border-radius: 50%;\n",
              "      cursor: pointer;\n",
              "      display: none;\n",
              "      fill: #1967D2;\n",
              "      height: 32px;\n",
              "      padding: 0 0 0 0;\n",
              "      width: 32px;\n",
              "    }\n",
              "\n",
              "    .colab-df-convert:hover {\n",
              "      background-color: #E2EBFA;\n",
              "      box-shadow: 0px 1px 2px rgba(60, 64, 67, 0.3), 0px 1px 3px 1px rgba(60, 64, 67, 0.15);\n",
              "      fill: #174EA6;\n",
              "    }\n",
              "\n",
              "    [theme=dark] .colab-df-convert {\n",
              "      background-color: #3B4455;\n",
              "      fill: #D2E3FC;\n",
              "    }\n",
              "\n",
              "    [theme=dark] .colab-df-convert:hover {\n",
              "      background-color: #434B5C;\n",
              "      box-shadow: 0px 1px 3px 1px rgba(0, 0, 0, 0.15);\n",
              "      filter: drop-shadow(0px 1px 2px rgba(0, 0, 0, 0.3));\n",
              "      fill: #FFFFFF;\n",
              "    }\n",
              "  </style>\n",
              "\n",
              "      <script>\n",
              "        const buttonEl =\n",
              "          document.querySelector('#df-1f2c63fc-4928-4d6b-a2a5-39b770be9f8b button.colab-df-convert');\n",
              "        buttonEl.style.display =\n",
              "          google.colab.kernel.accessAllowed ? 'block' : 'none';\n",
              "\n",
              "        async function convertToInteractive(key) {\n",
              "          const element = document.querySelector('#df-1f2c63fc-4928-4d6b-a2a5-39b770be9f8b');\n",
              "          const dataTable =\n",
              "            await google.colab.kernel.invokeFunction('convertToInteractive',\n",
              "                                                     [key], {});\n",
              "          if (!dataTable) return;\n",
              "\n",
              "          const docLinkHtml = 'Like what you see? Visit the ' +\n",
              "            '<a target=\"_blank\" href=https://colab.research.google.com/notebooks/data_table.ipynb>data table notebook</a>'\n",
              "            + ' to learn more about interactive tables.';\n",
              "          element.innerHTML = '';\n",
              "          dataTable['output_type'] = 'display_data';\n",
              "          await google.colab.output.renderOutput(dataTable, element);\n",
              "          const docLink = document.createElement('div');\n",
              "          docLink.innerHTML = docLinkHtml;\n",
              "          element.appendChild(docLink);\n",
              "        }\n",
              "      </script>\n",
              "    </div>\n",
              "  </div>\n",
              "  "
            ]
          },
          "metadata": {},
          "execution_count": 116
        }
      ]
    },
    {
      "cell_type": "code",
      "source": [
        "RunWalk=RunWalk[RunWalk['Method']=='HVG']"
      ],
      "metadata": {
        "id": "6NL-rrCf6-Xd"
      },
      "execution_count": null,
      "outputs": []
    },
    {
      "cell_type": "code",
      "source": [
        "sns.scatterplot(x=RunWalk['Average Degree'], y=RunWalk['Network Diameter'], hue=RunWalk['Activity']).set(title='Based on all axis')"
      ],
      "metadata": {
        "id": "2TJfLfQ87XkN",
        "colab": {
          "base_uri": "https://localhost:8080/",
          "height": 312
        },
        "outputId": "4eab0e56-fa33-4fb6-91c1-7494c7049cf0"
      },
      "execution_count": null,
      "outputs": [
        {
          "output_type": "execute_result",
          "data": {
            "text/plain": [
              "[Text(0.5, 1.0, 'Based on all axis')]"
            ]
          },
          "metadata": {},
          "execution_count": 118
        },
        {
          "output_type": "display_data",
          "data": {
            "text/plain": [
              "<Figure size 432x288 with 1 Axes>"
            ],
            "image/png": "[encoded data removed]"
          },
          "metadata": {
            "needs_background": "light"
          }
        }
      ]
    },
    {
      "cell_type": "code",
      "source": [
        "RunWalkX=RunWalk[RunWalk['Accelerometer Axis']=='x']\n",
        "sns.scatterplot(x=RunWalkX['Average Degree'], y=RunWalkX['Network Diameter'], hue=RunWalkX['Activity']).set(title=\"Based on X-axis\")"
      ],
      "metadata": {
        "id": "RpAAM7KF7X3_",
        "colab": {
          "base_uri": "https://localhost:8080/",
          "height": 312
        },
        "outputId": "fdcc2392-50a8-4292-88ca-0361c7086403"
      },
      "execution_count": null,
      "outputs": [
        {
          "output_type": "execute_result",
          "data": {
            "text/plain": [
              "[Text(0.5, 1.0, 'Based on X-axis')]"
            ]
          },
          "metadata": {},
          "execution_count": 119
        },
        {
          "output_type": "display_data",
          "data": {
            "text/plain": [
              "<Figure size 432x288 with 1 Axes>"
            ],
            "image/png": "[encoded data removed]"
          },
          "metadata": {
            "needs_background": "light"
          }
        }
      ]
    },
    {
      "cell_type": "code",
      "source": [
        "RunWalkX=RunWalk[RunWalk['Accelerometer Axis']=='y']\n",
        "sns.scatterplot(x=RunWalkX['Average Degree'], y=RunWalkX['Network Diameter'], hue=RunWalkX['Activity']).set(title=\"Based on Y-axis\")"
      ],
      "metadata": {
        "id": "vRALIw8B7YRw",
        "colab": {
          "base_uri": "https://localhost:8080/",
          "height": 312
        },
        "outputId": "e2644840-a45b-4a30-d6e8-fba9454548ae"
      },
      "execution_count": null,
      "outputs": [
        {
          "output_type": "execute_result",
          "data": {
            "text/plain": [
              "[Text(0.5, 1.0, 'Based on Y-axis')]"
            ]
          },
          "metadata": {},
          "execution_count": 120
        },
        {
          "output_type": "display_data",
          "data": {
            "text/plain": [
              "<Figure size 432x288 with 1 Axes>"
            ],
            "image/png": "[encoded data removed]"
          },
          "metadata": {
            "needs_background": "light"
          }
        }
      ]
    },
    {
      "cell_type": "code",
      "source": [
        "RunWalkX=RunWalk[RunWalk['Accelerometer Axis']=='z']\n",
        "sns.scatterplot(x=RunWalkX['Average Degree'], y=RunWalkX['Network Diameter'], hue=RunWalkX['Activity']).set(title=\"Based on Z-axis\")"
      ],
      "metadata": {
        "id": "cztX8EmX7pzt",
        "colab": {
          "base_uri": "https://localhost:8080/",
          "height": 312
        },
        "outputId": "643ca009-e2ce-4bbb-a4ef-ff0b751a2486"
      },
      "execution_count": null,
      "outputs": [
        {
          "output_type": "execute_result",
          "data": {
            "text/plain": [
              "[Text(0.5, 1.0, 'Based on Z-axis')]"
            ]
          },
          "metadata": {},
          "execution_count": 121
        },
        {
          "output_type": "display_data",
          "data": {
            "text/plain": [
              "<Figure size 432x288 with 1 Axes>"
            ],
            "image/png": "[encoded data removed]"
          },
          "metadata": {
            "needs_background": "light"
          }
        }
      ]
    },
    {
      "cell_type": "markdown",
      "source": [
        "### Natural Visibility Graph"
      ],
      "metadata": {
        "id": "CGyH4GBV-Sso"
      }
    },
    {
      "cell_type": "code",
      "source": [
        "RunWalk=Running.append(Walking)\n",
        "RunWalk"
      ],
      "metadata": {
        "colab": {
          "base_uri": "https://localhost:8080/",
          "height": 419
        },
        "id": "fHVDvs0b-ZuP",
        "outputId": "218b67d5-1861-4202-f429-ad2b2e3ba602"
      },
      "execution_count": null,
      "outputs": [
        {
          "output_type": "execute_result",
          "data": {
            "text/plain": [
              "    Method Subject Accelerometer Axis  Average Degree  Network Diameter  \\\n",
              "372    HVG       1                  x        3.964844              18.0   \n",
              "373    HVG       1                  y        3.953125              22.0   \n",
              "374    HVG       1                  z        3.964844              21.0   \n",
              "375    NVG       1                  x        6.464844               9.0   \n",
              "376    NVG       1                  y        8.330078              11.0   \n",
              "..     ...     ...                ...             ...               ...   \n",
              "715    HVG       1                  y        3.966797              24.0   \n",
              "716    HVG       1                  z        3.914062              39.0   \n",
              "717    NVG       1                  x       12.492188              11.0   \n",
              "718    NVG       1                  y       13.187500               9.0   \n",
              "719    NVG       1                  z       12.974609              13.0   \n",
              "\n",
              "     Average Path Length Activity Body Part  \n",
              "372             7.633704  running      head  \n",
              "373             8.268401  running      head  \n",
              "374            10.148143  running      head  \n",
              "375             4.907564  running      head  \n",
              "376             5.192731  running      head  \n",
              "..                   ...      ...       ...  \n",
              "715            10.074499  walking      head  \n",
              "716            14.945923  walking      head  \n",
              "717             4.518703  walking      head  \n",
              "718             4.281492  walking      head  \n",
              "719             5.146120  walking      head  \n",
              "\n",
              "[180 rows x 8 columns]"
            ],
            "text/html": [
              "\n",
              "  <div id=\"df-7453bedb-7a3f-4279-a521-953760dde416\">\n",
              "    <div class=\"colab-df-container\">\n",
              "      <div>\n",
              "<style scoped>\n",
              "    .dataframe tbody tr th:only-of-type {\n",
              "        vertical-align: middle;\n",
              "    }\n",
              "\n",
              "    .dataframe tbody tr th {\n",
              "        vertical-align: top;\n",
              "    }\n",
              "\n",
              "    .dataframe thead th {\n",
              "        text-align: right;\n",
              "    }\n",
              "</style>\n",
              "<table border=\"1\" class=\"dataframe\">\n",
              "  <thead>\n",
              "    <tr style=\"text-align: right;\">\n",
              "      <th></th>\n",
              "      <th>Method</th>\n",
              "      <th>Subject</th>\n",
              "      <th>Accelerometer Axis</th>\n",
              "      <th>Average Degree</th>\n",
              "      <th>Network Diameter</th>\n",
              "      <th>Average Path Length</th>\n",
              "      <th>Activity</th>\n",
              "      <th>Body Part</th>\n",
              "    </tr>\n",
              "  </thead>\n",
              "  <tbody>\n",
              "    <tr>\n",
              "      <th>372</th>\n",
              "      <td>HVG</td>\n",
              "      <td>1</td>\n",
              "      <td>x</td>\n",
              "      <td>3.964844</td>\n",
              "      <td>18.0</td>\n",
              "      <td>7.633704</td>\n",
              "      <td>running</td>\n",
              "      <td>head</td>\n",
              "    </tr>\n",
              "    <tr>\n",
              "      <th>373</th>\n",
              "      <td>HVG</td>\n",
              "      <td>1</td>\n",
              "      <td>y</td>\n",
              "      <td>3.953125</td>\n",
              "      <td>22.0</td>\n",
              "      <td>8.268401</td>\n",
              "      <td>running</td>\n",
              "      <td>head</td>\n",
              "    </tr>\n",
              "    <tr>\n",
              "      <th>374</th>\n",
              "      <td>HVG</td>\n",
              "      <td>1</td>\n",
              "      <td>z</td>\n",
              "      <td>3.964844</td>\n",
              "      <td>21.0</td>\n",
              "      <td>10.148143</td>\n",
              "      <td>running</td>\n",
              "      <td>head</td>\n",
              "    </tr>\n",
              "    <tr>\n",
              "      <th>375</th>\n",
              "      <td>NVG</td>\n",
              "      <td>1</td>\n",
              "      <td>x</td>\n",
              "      <td>6.464844</td>\n",
              "      <td>9.0</td>\n",
              "      <td>4.907564</td>\n",
              "      <td>running</td>\n",
              "      <td>head</td>\n",
              "    </tr>\n",
              "    <tr>\n",
              "      <th>376</th>\n",
              "      <td>NVG</td>\n",
              "      <td>1</td>\n",
              "      <td>y</td>\n",
              "      <td>8.330078</td>\n",
              "      <td>11.0</td>\n",
              "      <td>5.192731</td>\n",
              "      <td>running</td>\n",
              "      <td>head</td>\n",
              "    </tr>\n",
              "    <tr>\n",
              "      <th>...</th>\n",
              "      <td>...</td>\n",
              "      <td>...</td>\n",
              "      <td>...</td>\n",
              "      <td>...</td>\n",
              "      <td>...</td>\n",
              "      <td>...</td>\n",
              "      <td>...</td>\n",
              "      <td>...</td>\n",
              "    </tr>\n",
              "    <tr>\n",
              "      <th>715</th>\n",
              "      <td>HVG</td>\n",
              "      <td>1</td>\n",
              "      <td>y</td>\n",
              "      <td>3.966797</td>\n",
              "      <td>24.0</td>\n",
              "      <td>10.074499</td>\n",
              "      <td>walking</td>\n",
              "      <td>head</td>\n",
              "    </tr>\n",
              "    <tr>\n",
              "      <th>716</th>\n",
              "      <td>HVG</td>\n",
              "      <td>1</td>\n",
              "      <td>z</td>\n",
              "      <td>3.914062</td>\n",
              "      <td>39.0</td>\n",
              "      <td>14.945923</td>\n",
              "      <td>walking</td>\n",
              "      <td>head</td>\n",
              "    </tr>\n",
              "    <tr>\n",
              "      <th>717</th>\n",
              "      <td>NVG</td>\n",
              "      <td>1</td>\n",
              "      <td>x</td>\n",
              "      <td>12.492188</td>\n",
              "      <td>11.0</td>\n",
              "      <td>4.518703</td>\n",
              "      <td>walking</td>\n",
              "      <td>head</td>\n",
              "    </tr>\n",
              "    <tr>\n",
              "      <th>718</th>\n",
              "      <td>NVG</td>\n",
              "      <td>1</td>\n",
              "      <td>y</td>\n",
              "      <td>13.187500</td>\n",
              "      <td>9.0</td>\n",
              "      <td>4.281492</td>\n",
              "      <td>walking</td>\n",
              "      <td>head</td>\n",
              "    </tr>\n",
              "    <tr>\n",
              "      <th>719</th>\n",
              "      <td>NVG</td>\n",
              "      <td>1</td>\n",
              "      <td>z</td>\n",
              "      <td>12.974609</td>\n",
              "      <td>13.0</td>\n",
              "      <td>5.146120</td>\n",
              "      <td>walking</td>\n",
              "      <td>head</td>\n",
              "    </tr>\n",
              "  </tbody>\n",
              "</table>\n",
              "<p>180 rows × 8 columns</p>\n",
              "</div>\n",
              "      <button class=\"colab-df-convert\" onclick=\"convertToInteractive('df-7453bedb-7a3f-4279-a521-953760dde416')\"\n",
              "              title=\"Convert this dataframe to an interactive table.\"\n",
              "              style=\"display:none;\">\n",
              "        \n",
              "  <svg xmlns=\"http://www.w3.org/2000/svg\" height=\"24px\"viewBox=\"0 0 24 24\"\n",
              "       width=\"24px\">\n",
              "    <path d=\"M0 0h24v24H0V0z\" fill=\"none\"/>\n",
              "    <path d=\"M18.56 5.44l.94 2.06.94-2.06 2.06-.94-2.06-.94-.94-2.06-.94 2.06-2.06.94zm-11 1L8.5 8.5l.94-2.06 2.06-.94-2.06-.94L8.5 2.5l-.94 2.06-2.06.94zm10 10l.94 2.06.94-2.06 2.06-.94-2.06-.94-.94-2.06-.94 2.06-2.06.94z\"/><path d=\"M17.41 7.96l-1.37-1.37c-.4-.4-.92-.59-1.43-.59-.52 0-1.04.2-1.43.59L10.3 9.45l-7.72 7.72c-.78.78-.78 2.05 0 2.83L4 21.41c.39.39.9.59 1.41.59.51 0 1.02-.2 1.41-.59l7.78-7.78 2.81-2.81c.8-.78.8-2.07 0-2.86zM5.41 20L4 18.59l7.72-7.72 1.47 1.35L5.41 20z\"/>\n",
              "  </svg>\n",
              "      </button>\n",
              "      \n",
              "  <style>\n",
              "    .colab-df-container {\n",
              "      display:flex;\n",
              "      flex-wrap:wrap;\n",
              "      gap: 12px;\n",
              "    }\n",
              "\n",
              "    .colab-df-convert {\n",
              "      background-color: #E8F0FE;\n",
              "      border: none;\n",
              "      border-radius: 50%;\n",
              "      cursor: pointer;\n",
              "      display: none;\n",
              "      fill: #1967D2;\n",
              "      height: 32px;\n",
              "      padding: 0 0 0 0;\n",
              "      width: 32px;\n",
              "    }\n",
              "\n",
              "    .colab-df-convert:hover {\n",
              "      background-color: #E2EBFA;\n",
              "      box-shadow: 0px 1px 2px rgba(60, 64, 67, 0.3), 0px 1px 3px 1px rgba(60, 64, 67, 0.15);\n",
              "      fill: #174EA6;\n",
              "    }\n",
              "\n",
              "    [theme=dark] .colab-df-convert {\n",
              "      background-color: #3B4455;\n",
              "      fill: #D2E3FC;\n",
              "    }\n",
              "\n",
              "    [theme=dark] .colab-df-convert:hover {\n",
              "      background-color: #434B5C;\n",
              "      box-shadow: 0px 1px 3px 1px rgba(0, 0, 0, 0.15);\n",
              "      filter: drop-shadow(0px 1px 2px rgba(0, 0, 0, 0.3));\n",
              "      fill: #FFFFFF;\n",
              "    }\n",
              "  </style>\n",
              "\n",
              "      <script>\n",
              "        const buttonEl =\n",
              "          document.querySelector('#df-7453bedb-7a3f-4279-a521-953760dde416 button.colab-df-convert');\n",
              "        buttonEl.style.display =\n",
              "          google.colab.kernel.accessAllowed ? 'block' : 'none';\n",
              "\n",
              "        async function convertToInteractive(key) {\n",
              "          const element = document.querySelector('#df-7453bedb-7a3f-4279-a521-953760dde416');\n",
              "          const dataTable =\n",
              "            await google.colab.kernel.invokeFunction('convertToInteractive',\n",
              "                                                     [key], {});\n",
              "          if (!dataTable) return;\n",
              "\n",
              "          const docLinkHtml = 'Like what you see? Visit the ' +\n",
              "            '<a target=\"_blank\" href=https://colab.research.google.com/notebooks/data_table.ipynb>data table notebook</a>'\n",
              "            + ' to learn more about interactive tables.';\n",
              "          element.innerHTML = '';\n",
              "          dataTable['output_type'] = 'display_data';\n",
              "          await google.colab.output.renderOutput(dataTable, element);\n",
              "          const docLink = document.createElement('div');\n",
              "          docLink.innerHTML = docLinkHtml;\n",
              "          element.appendChild(docLink);\n",
              "        }\n",
              "      </script>\n",
              "    </div>\n",
              "  </div>\n",
              "  "
            ]
          },
          "metadata": {},
          "execution_count": 122
        }
      ]
    },
    {
      "cell_type": "code",
      "source": [
        "RunWalk=RunWalk[RunWalk['Method']=='NVG']"
      ],
      "metadata": {
        "id": "ToK5nh8G-ZuQ"
      },
      "execution_count": null,
      "outputs": []
    },
    {
      "cell_type": "code",
      "source": [
        "sns.scatterplot(x=RunWalk['Average Degree'], y=RunWalk['Network Diameter'], hue=RunWalk['Activity']).set(title='Based on all axis')"
      ],
      "metadata": {
        "colab": {
          "base_uri": "https://localhost:8080/",
          "height": 312
        },
        "id": "2CEtg94c-ZuQ",
        "outputId": "c5dbd12d-505c-4147-ebd8-a5c4dbd21a52"
      },
      "execution_count": null,
      "outputs": [
        {
          "output_type": "execute_result",
          "data": {
            "text/plain": [
              "[Text(0.5, 1.0, 'Based on all axis')]"
            ]
          },
          "metadata": {},
          "execution_count": 124
        },
        {
          "output_type": "display_data",
          "data": {
            "text/plain": [
              "<Figure size 432x288 with 1 Axes>"
            ],
            "image/png": "[encoded data removed]"
          },
          "metadata": {
            "needs_background": "light"
          }
        }
      ]
    },
    {
      "cell_type": "code",
      "source": [
        "RunWalkX=RunWalk[RunWalk['Accelerometer Axis']=='x']\n",
        "sns.scatterplot(x=RunWalkX['Average Degree'], y=RunWalkX['Network Diameter'], hue=RunWalkX['Activity']).set(title=\"Based on X-axis\")"
      ],
      "metadata": {
        "colab": {
          "base_uri": "https://localhost:8080/",
          "height": 312
        },
        "id": "qy363i08-ZuR",
        "outputId": "13db8243-1e96-476b-b7de-7829f05377fd"
      },
      "execution_count": null,
      "outputs": [
        {
          "output_type": "execute_result",
          "data": {
            "text/plain": [
              "[Text(0.5, 1.0, 'Based on X-axis')]"
            ]
          },
          "metadata": {},
          "execution_count": 125
        },
        {
          "output_type": "display_data",
          "data": {
            "text/plain": [
              "<Figure size 432x288 with 1 Axes>"
            ],
            "image/png": "[encoded data removed]"
          },
          "metadata": {
            "needs_background": "light"
          }
        }
      ]
    },
    {
      "cell_type": "code",
      "source": [
        "RunWalkX=RunWalk[RunWalk['Accelerometer Axis']=='y']\n",
        "sns.scatterplot(x=RunWalkX['Average Degree'], y=RunWalkX['Network Diameter'], hue=RunWalkX['Activity']).set(title=\"Based on Y-axis\")"
      ],
      "metadata": {
        "colab": {
          "base_uri": "https://localhost:8080/",
          "height": 312
        },
        "id": "mD9T3768-ZuR",
        "outputId": "e8f9917b-cd05-44b8-c65c-1588a36b786d"
      },
      "execution_count": null,
      "outputs": [
        {
          "output_type": "execute_result",
          "data": {
            "text/plain": [
              "[Text(0.5, 1.0, 'Based on Y-axis')]"
            ]
          },
          "metadata": {},
          "execution_count": 126
        },
        {
          "output_type": "display_data",
          "data": {
            "text/plain": [
              "<Figure size 432x288 with 1 Axes>"
            ],
            "image/png": "[encoded data removed]"
          },
          "metadata": {
            "needs_background": "light"
          }
        }
      ]
    },
    {
      "cell_type": "code",
      "source": [
        "RunWalkX=RunWalk[RunWalk['Accelerometer Axis']=='z']\n",
        "sns.scatterplot(x=RunWalkX['Average Degree'], y=RunWalkX['Network Diameter'], hue=RunWalkX['Activity']).set(title=\"Based on Z-axis\")"
      ],
      "metadata": {
        "colab": {
          "base_uri": "https://localhost:8080/",
          "height": 312
        },
        "id": "tDB1RnmV-ZuR",
        "outputId": "66ab4672-48c5-47a6-cac9-5412f0368530"
      },
      "execution_count": null,
      "outputs": [
        {
          "output_type": "execute_result",
          "data": {
            "text/plain": [
              "[Text(0.5, 1.0, 'Based on Z-axis')]"
            ]
          },
          "metadata": {},
          "execution_count": 127
        },
        {
          "output_type": "display_data",
          "data": {
            "text/plain": [
              "<Figure size 432x288 with 1 Axes>"
            ],
            "image/png": "[encoded data removed]"
          },
          "metadata": {
            "needs_background": "light"
          }
        }
      ]
    },
    {
      "cell_type": "markdown",
      "source": [
        "## Based on Chest Body part"
      ],
      "metadata": {
        "id": "PrrYIem_-v-i"
      }
    },
    {
      "cell_type": "code",
      "source": [
        "ClimbingUp=ResultChest[ResultChest['Activity']=='climbingup']\n",
        "ClimbingDown=ResultChest[ResultChest['Activity']=='climbingdown']\n",
        "Running=ResultChest[ResultChest['Activity']=='running']\n",
        "Walking=ResultChest[ResultChest['Activity']=='walking']"
      ],
      "metadata": {
        "id": "THk_qpKIAJc3"
      },
      "execution_count": null,
      "outputs": []
    },
    {
      "cell_type": "markdown",
      "source": [
        "### Scatter plot Climbing Up and Climbing Down\n"
      ],
      "metadata": {
        "id": "oA1bWcpzAJc5"
      }
    },
    {
      "cell_type": "markdown",
      "source": [
        "### Horizontal Visibility Graph"
      ],
      "metadata": {
        "id": "A2gNmzhIAJc6"
      }
    },
    {
      "cell_type": "code",
      "source": [
        "Climbing=ClimbingUp.append(ClimbingDown)\n",
        "Climbing"
      ],
      "metadata": {
        "colab": {
          "base_uri": "https://localhost:8080/",
          "height": 419
        },
        "id": "UgcDIltaAJc6",
        "outputId": "02112354-fbac-429f-fc26-ced1c24949af"
      },
      "execution_count": null,
      "outputs": [
        {
          "output_type": "execute_result",
          "data": {
            "text/plain": [
              "    Method Subject Accelerometer Axis  Average Degree  Network Diameter  \\\n",
              "12     HVG       1                  x        3.953125              26.0   \n",
              "13     HVG       1                  y        3.947266              32.0   \n",
              "14     HVG       1                  z        3.968750              26.0   \n",
              "15     NVG       1                  x       12.820312              10.0   \n",
              "16     NVG       1                  y       13.744141              11.0   \n",
              "..     ...     ...                ...             ...               ...   \n",
              "337    HVG       1                  y        3.947266              28.0   \n",
              "338    HVG       1                  z        3.968750              23.0   \n",
              "339    NVG       1                  x       15.609375              16.0   \n",
              "340    NVG       1                  y       14.087891              10.0   \n",
              "341    NVG       1                  z        9.562500               9.0   \n",
              "\n",
              "     Average Path Length      Activity Body Part  \n",
              "12             11.659058    climbingup     chest  \n",
              "13             13.796356    climbingup     chest  \n",
              "14             11.595193    climbingup     chest  \n",
              "15              4.504794    climbingup     chest  \n",
              "16              5.264697    climbingup     chest  \n",
              "..                   ...           ...       ...  \n",
              "337            12.518642  climbingdown     chest  \n",
              "338             9.949156  climbingdown     chest  \n",
              "339             6.598815  climbingdown     chest  \n",
              "340             4.261784  climbingdown     chest  \n",
              "341             4.428011  climbingdown     chest  \n",
              "\n",
              "[180 rows x 8 columns]"
            ],
            "text/html": [
              "\n",
              "  <div id=\"df-d40c0044-941f-4b91-b0db-69e9593dfe7d\">\n",
              "    <div class=\"colab-df-container\">\n",
              "      <div>\n",
              "<style scoped>\n",
              "    .dataframe tbody tr th:only-of-type {\n",
              "        vertical-align: middle;\n",
              "    }\n",
              "\n",
              "    .dataframe tbody tr th {\n",
              "        vertical-align: top;\n",
              "    }\n",
              "\n",
              "    .dataframe thead th {\n",
              "        text-align: right;\n",
              "    }\n",
              "</style>\n",
              "<table border=\"1\" class=\"dataframe\">\n",
              "  <thead>\n",
              "    <tr style=\"text-align: right;\">\n",
              "      <th></th>\n",
              "      <th>Method</th>\n",
              "      <th>Subject</th>\n",
              "      <th>Accelerometer Axis</th>\n",
              "      <th>Average Degree</th>\n",
              "      <th>Network Diameter</th>\n",
              "      <th>Average Path Length</th>\n",
              "      <th>Activity</th>\n",
              "      <th>Body Part</th>\n",
              "    </tr>\n",
              "  </thead>\n",
              "  <tbody>\n",
              "    <tr>\n",
              "      <th>12</th>\n",
              "      <td>HVG</td>\n",
              "      <td>1</td>\n",
              "      <td>x</td>\n",
              "      <td>3.953125</td>\n",
              "      <td>26.0</td>\n",
              "      <td>11.659058</td>\n",
              "      <td>climbingup</td>\n",
              "      <td>chest</td>\n",
              "    </tr>\n",
              "    <tr>\n",
              "      <th>13</th>\n",
              "      <td>HVG</td>\n",
              "      <td>1</td>\n",
              "      <td>y</td>\n",
              "      <td>3.947266</td>\n",
              "      <td>32.0</td>\n",
              "      <td>13.796356</td>\n",
              "      <td>climbingup</td>\n",
              "      <td>chest</td>\n",
              "    </tr>\n",
              "    <tr>\n",
              "      <th>14</th>\n",
              "      <td>HVG</td>\n",
              "      <td>1</td>\n",
              "      <td>z</td>\n",
              "      <td>3.968750</td>\n",
              "      <td>26.0</td>\n",
              "      <td>11.595193</td>\n",
              "      <td>climbingup</td>\n",
              "      <td>chest</td>\n",
              "    </tr>\n",
              "    <tr>\n",
              "      <th>15</th>\n",
              "      <td>NVG</td>\n",
              "      <td>1</td>\n",
              "      <td>x</td>\n",
              "      <td>12.820312</td>\n",
              "      <td>10.0</td>\n",
              "      <td>4.504794</td>\n",
              "      <td>climbingup</td>\n",
              "      <td>chest</td>\n",
              "    </tr>\n",
              "    <tr>\n",
              "      <th>16</th>\n",
              "      <td>NVG</td>\n",
              "      <td>1</td>\n",
              "      <td>y</td>\n",
              "      <td>13.744141</td>\n",
              "      <td>11.0</td>\n",
              "      <td>5.264697</td>\n",
              "      <td>climbingup</td>\n",
              "      <td>chest</td>\n",
              "    </tr>\n",
              "    <tr>\n",
              "      <th>...</th>\n",
              "      <td>...</td>\n",
              "      <td>...</td>\n",
              "      <td>...</td>\n",
              "      <td>...</td>\n",
              "      <td>...</td>\n",
              "      <td>...</td>\n",
              "      <td>...</td>\n",
              "      <td>...</td>\n",
              "    </tr>\n",
              "    <tr>\n",
              "      <th>337</th>\n",
              "      <td>HVG</td>\n",
              "      <td>1</td>\n",
              "      <td>y</td>\n",
              "      <td>3.947266</td>\n",
              "      <td>28.0</td>\n",
              "      <td>12.518642</td>\n",
              "      <td>climbingdown</td>\n",
              "      <td>chest</td>\n",
              "    </tr>\n",
              "    <tr>\n",
              "      <th>338</th>\n",
              "      <td>HVG</td>\n",
              "      <td>1</td>\n",
              "      <td>z</td>\n",
              "      <td>3.968750</td>\n",
              "      <td>23.0</td>\n",
              "      <td>9.949156</td>\n",
              "      <td>climbingdown</td>\n",
              "      <td>chest</td>\n",
              "    </tr>\n",
              "    <tr>\n",
              "      <th>339</th>\n",
              "      <td>NVG</td>\n",
              "      <td>1</td>\n",
              "      <td>x</td>\n",
              "      <td>15.609375</td>\n",
              "      <td>16.0</td>\n",
              "      <td>6.598815</td>\n",
              "      <td>climbingdown</td>\n",
              "      <td>chest</td>\n",
              "    </tr>\n",
              "    <tr>\n",
              "      <th>340</th>\n",
              "      <td>NVG</td>\n",
              "      <td>1</td>\n",
              "      <td>y</td>\n",
              "      <td>14.087891</td>\n",
              "      <td>10.0</td>\n",
              "      <td>4.261784</td>\n",
              "      <td>climbingdown</td>\n",
              "      <td>chest</td>\n",
              "    </tr>\n",
              "    <tr>\n",
              "      <th>341</th>\n",
              "      <td>NVG</td>\n",
              "      <td>1</td>\n",
              "      <td>z</td>\n",
              "      <td>9.562500</td>\n",
              "      <td>9.0</td>\n",
              "      <td>4.428011</td>\n",
              "      <td>climbingdown</td>\n",
              "      <td>chest</td>\n",
              "    </tr>\n",
              "  </tbody>\n",
              "</table>\n",
              "<p>180 rows × 8 columns</p>\n",
              "</div>\n",
              "      <button class=\"colab-df-convert\" onclick=\"convertToInteractive('df-d40c0044-941f-4b91-b0db-69e9593dfe7d')\"\n",
              "              title=\"Convert this dataframe to an interactive table.\"\n",
              "              style=\"display:none;\">\n",
              "        \n",
              "  <svg xmlns=\"http://www.w3.org/2000/svg\" height=\"24px\"viewBox=\"0 0 24 24\"\n",
              "       width=\"24px\">\n",
              "    <path d=\"M0 0h24v24H0V0z\" fill=\"none\"/>\n",
              "    <path d=\"M18.56 5.44l.94 2.06.94-2.06 2.06-.94-2.06-.94-.94-2.06-.94 2.06-2.06.94zm-11 1L8.5 8.5l.94-2.06 2.06-.94-2.06-.94L8.5 2.5l-.94 2.06-2.06.94zm10 10l.94 2.06.94-2.06 2.06-.94-2.06-.94-.94-2.06-.94 2.06-2.06.94z\"/><path d=\"M17.41 7.96l-1.37-1.37c-.4-.4-.92-.59-1.43-.59-.52 0-1.04.2-1.43.59L10.3 9.45l-7.72 7.72c-.78.78-.78 2.05 0 2.83L4 21.41c.39.39.9.59 1.41.59.51 0 1.02-.2 1.41-.59l7.78-7.78 2.81-2.81c.8-.78.8-2.07 0-2.86zM5.41 20L4 18.59l7.72-7.72 1.47 1.35L5.41 20z\"/>\n",
              "  </svg>\n",
              "      </button>\n",
              "      \n",
              "  <style>\n",
              "    .colab-df-container {\n",
              "      display:flex;\n",
              "      flex-wrap:wrap;\n",
              "      gap: 12px;\n",
              "    }\n",
              "\n",
              "    .colab-df-convert {\n",
              "      background-color: #E8F0FE;\n",
              "      border: none;\n",
              "      border-radius: 50%;\n",
              "      cursor: pointer;\n",
              "      display: none;\n",
              "      fill: #1967D2;\n",
              "      height: 32px;\n",
              "      padding: 0 0 0 0;\n",
              "      width: 32px;\n",
              "    }\n",
              "\n",
              "    .colab-df-convert:hover {\n",
              "      background-color: #E2EBFA;\n",
              "      box-shadow: 0px 1px 2px rgba(60, 64, 67, 0.3), 0px 1px 3px 1px rgba(60, 64, 67, 0.15);\n",
              "      fill: #174EA6;\n",
              "    }\n",
              "\n",
              "    [theme=dark] .colab-df-convert {\n",
              "      background-color: #3B4455;\n",
              "      fill: #D2E3FC;\n",
              "    }\n",
              "\n",
              "    [theme=dark] .colab-df-convert:hover {\n",
              "      background-color: #434B5C;\n",
              "      box-shadow: 0px 1px 3px 1px rgba(0, 0, 0, 0.15);\n",
              "      filter: drop-shadow(0px 1px 2px rgba(0, 0, 0, 0.3));\n",
              "      fill: #FFFFFF;\n",
              "    }\n",
              "  </style>\n",
              "\n",
              "      <script>\n",
              "        const buttonEl =\n",
              "          document.querySelector('#df-d40c0044-941f-4b91-b0db-69e9593dfe7d button.colab-df-convert');\n",
              "        buttonEl.style.display =\n",
              "          google.colab.kernel.accessAllowed ? 'block' : 'none';\n",
              "\n",
              "        async function convertToInteractive(key) {\n",
              "          const element = document.querySelector('#df-d40c0044-941f-4b91-b0db-69e9593dfe7d');\n",
              "          const dataTable =\n",
              "            await google.colab.kernel.invokeFunction('convertToInteractive',\n",
              "                                                     [key], {});\n",
              "          if (!dataTable) return;\n",
              "\n",
              "          const docLinkHtml = 'Like what you see? Visit the ' +\n",
              "            '<a target=\"_blank\" href=https://colab.research.google.com/notebooks/data_table.ipynb>data table notebook</a>'\n",
              "            + ' to learn more about interactive tables.';\n",
              "          element.innerHTML = '';\n",
              "          dataTable['output_type'] = 'display_data';\n",
              "          await google.colab.output.renderOutput(dataTable, element);\n",
              "          const docLink = document.createElement('div');\n",
              "          docLink.innerHTML = docLinkHtml;\n",
              "          element.appendChild(docLink);\n",
              "        }\n",
              "      </script>\n",
              "    </div>\n",
              "  </div>\n",
              "  "
            ]
          },
          "metadata": {},
          "execution_count": 129
        }
      ]
    },
    {
      "cell_type": "code",
      "source": [
        "Climbing=Climbing[Climbing['Method']=='HVG']"
      ],
      "metadata": {
        "id": "wnMycBj1AJc7"
      },
      "execution_count": null,
      "outputs": []
    },
    {
      "cell_type": "code",
      "source": [
        "sns.scatterplot(x=Climbing['Average Degree'], y=Climbing['Network Diameter'], hue=Climbing['Activity']).set(title='Based on all axis')"
      ],
      "metadata": {
        "colab": {
          "base_uri": "https://localhost:8080/",
          "height": 312
        },
        "id": "EmD3yVuGAJc7",
        "outputId": "98ea58b8-3846-4ebb-ccdd-bfbfead7d572"
      },
      "execution_count": null,
      "outputs": [
        {
          "output_type": "execute_result",
          "data": {
            "text/plain": [
              "[Text(0.5, 1.0, 'Based on all axis')]"
            ]
          },
          "metadata": {},
          "execution_count": 131
        },
        {
          "output_type": "display_data",
          "data": {
            "text/plain": [
              "<Figure size 432x288 with 1 Axes>"
            ],
            "image/png": "[encoded data removed]"
          },
          "metadata": {
            "needs_background": "light"
          }
        }
      ]
    },
    {
      "cell_type": "code",
      "source": [
        "ClimbingX=Climbing[Climbing['Accelerometer Axis']=='x']\n",
        "sns.scatterplot(x=ClimbingX['Average Degree'], y=ClimbingX['Network Diameter'], hue=ClimbingX['Activity']).set(title=\"Based on X-axis\")"
      ],
      "metadata": {
        "colab": {
          "base_uri": "https://localhost:8080/",
          "height": 312
        },
        "id": "zDGxEi59AJc7",
        "outputId": "f3d8fafc-06e2-4570-d624-7b0b6f15b633"
      },
      "execution_count": null,
      "outputs": [
        {
          "output_type": "execute_result",
          "data": {
            "text/plain": [
              "[Text(0.5, 1.0, 'Based on X-axis')]"
            ]
          },
          "metadata": {},
          "execution_count": 132
        },
        {
          "output_type": "display_data",
          "data": {
            "text/plain": [
              "<Figure size 432x288 with 1 Axes>"
            ],
            "image/png": "[encoded data removed]"
          },
          "metadata": {
            "needs_background": "light"
          }
        }
      ]
    },
    {
      "cell_type": "code",
      "source": [
        "ClimbingY=Climbing[Climbing['Accelerometer Axis']=='y']\n",
        "sns.scatterplot(x=ClimbingY['Average Degree'], y=ClimbingY['Network Diameter'], hue=ClimbingY['Activity']).set(title=\"Based on Y-axis\")"
      ],
      "metadata": {
        "colab": {
          "base_uri": "https://localhost:8080/",
          "height": 312
        },
        "id": "pe-qeJ_8AJc8",
        "outputId": "4d531357-04f4-4861-9a4d-3a3af89b5232"
      },
      "execution_count": null,
      "outputs": [
        {
          "output_type": "execute_result",
          "data": {
            "text/plain": [
              "[Text(0.5, 1.0, 'Based on Y-axis')]"
            ]
          },
          "metadata": {},
          "execution_count": 133
        },
        {
          "output_type": "display_data",
          "data": {
            "text/plain": [
              "<Figure size 432x288 with 1 Axes>"
            ],
            "image/png": "[encoded data removed]"
          },
          "metadata": {
            "needs_background": "light"
          }
        }
      ]
    },
    {
      "cell_type": "code",
      "source": [
        "ClimbingZ=Climbing[Climbing['Accelerometer Axis']=='z']\n",
        "sns.scatterplot(x=ClimbingZ['Average Degree'], y=ClimbingZ['Network Diameter'], hue=ClimbingZ['Activity']).set(title=\"Based on Z-axis\")"
      ],
      "metadata": {
        "colab": {
          "base_uri": "https://localhost:8080/",
          "height": 312
        },
        "id": "aS--T49aAJc8",
        "outputId": "63fbd7bd-5af6-4c8e-a749-06fa1db51e5e"
      },
      "execution_count": null,
      "outputs": [
        {
          "output_type": "execute_result",
          "data": {
            "text/plain": [
              "[Text(0.5, 1.0, 'Based on Z-axis')]"
            ]
          },
          "metadata": {},
          "execution_count": 134
        },
        {
          "output_type": "display_data",
          "data": {
            "text/plain": [
              "<Figure size 432x288 with 1 Axes>"
            ],
            "image/png": "[encoded data removed]"
          },
          "metadata": {
            "needs_background": "light"
          }
        }
      ]
    },
    {
      "cell_type": "markdown",
      "source": [
        "### Natural Visibility Graph"
      ],
      "metadata": {
        "id": "uO5a5Gk6AJc8"
      }
    },
    {
      "cell_type": "code",
      "source": [
        "Climbing=ClimbingUp.append(ClimbingDown)\n",
        "Climbing"
      ],
      "metadata": {
        "colab": {
          "base_uri": "https://localhost:8080/",
          "height": 419
        },
        "id": "Z80pqAWFAJc-",
        "outputId": "9d3a8240-592e-4315-b081-7f6cabd8b4c5"
      },
      "execution_count": null,
      "outputs": [
        {
          "output_type": "execute_result",
          "data": {
            "text/plain": [
              "    Method Subject Accelerometer Axis  Average Degree  Network Diameter  \\\n",
              "12     HVG       1                  x        3.953125              26.0   \n",
              "13     HVG       1                  y        3.947266              32.0   \n",
              "14     HVG       1                  z        3.968750              26.0   \n",
              "15     NVG       1                  x       12.820312              10.0   \n",
              "16     NVG       1                  y       13.744141              11.0   \n",
              "..     ...     ...                ...             ...               ...   \n",
              "337    HVG       1                  y        3.947266              28.0   \n",
              "338    HVG       1                  z        3.968750              23.0   \n",
              "339    NVG       1                  x       15.609375              16.0   \n",
              "340    NVG       1                  y       14.087891              10.0   \n",
              "341    NVG       1                  z        9.562500               9.0   \n",
              "\n",
              "     Average Path Length      Activity Body Part  \n",
              "12             11.659058    climbingup     chest  \n",
              "13             13.796356    climbingup     chest  \n",
              "14             11.595193    climbingup     chest  \n",
              "15              4.504794    climbingup     chest  \n",
              "16              5.264697    climbingup     chest  \n",
              "..                   ...           ...       ...  \n",
              "337            12.518642  climbingdown     chest  \n",
              "338             9.949156  climbingdown     chest  \n",
              "339             6.598815  climbingdown     chest  \n",
              "340             4.261784  climbingdown     chest  \n",
              "341             4.428011  climbingdown     chest  \n",
              "\n",
              "[180 rows x 8 columns]"
            ],
            "text/html": [
              "\n",
              "  <div id=\"df-0d9d3396-3afc-4f36-accf-3250234388c2\">\n",
              "    <div class=\"colab-df-container\">\n",
              "      <div>\n",
              "<style scoped>\n",
              "    .dataframe tbody tr th:only-of-type {\n",
              "        vertical-align: middle;\n",
              "    }\n",
              "\n",
              "    .dataframe tbody tr th {\n",
              "        vertical-align: top;\n",
              "    }\n",
              "\n",
              "    .dataframe thead th {\n",
              "        text-align: right;\n",
              "    }\n",
              "</style>\n",
              "<table border=\"1\" class=\"dataframe\">\n",
              "  <thead>\n",
              "    <tr style=\"text-align: right;\">\n",
              "      <th></th>\n",
              "      <th>Method</th>\n",
              "      <th>Subject</th>\n",
              "      <th>Accelerometer Axis</th>\n",
              "      <th>Average Degree</th>\n",
              "      <th>Network Diameter</th>\n",
              "      <th>Average Path Length</th>\n",
              "      <th>Activity</th>\n",
              "      <th>Body Part</th>\n",
              "    </tr>\n",
              "  </thead>\n",
              "  <tbody>\n",
              "    <tr>\n",
              "      <th>12</th>\n",
              "      <td>HVG</td>\n",
              "      <td>1</td>\n",
              "      <td>x</td>\n",
              "      <td>3.953125</td>\n",
              "      <td>26.0</td>\n",
              "      <td>11.659058</td>\n",
              "      <td>climbingup</td>\n",
              "      <td>chest</td>\n",
              "    </tr>\n",
              "    <tr>\n",
              "      <th>13</th>\n",
              "      <td>HVG</td>\n",
              "      <td>1</td>\n",
              "      <td>y</td>\n",
              "      <td>3.947266</td>\n",
              "      <td>32.0</td>\n",
              "      <td>13.796356</td>\n",
              "      <td>climbingup</td>\n",
              "      <td>chest</td>\n",
              "    </tr>\n",
              "    <tr>\n",
              "      <th>14</th>\n",
              "      <td>HVG</td>\n",
              "      <td>1</td>\n",
              "      <td>z</td>\n",
              "      <td>3.968750</td>\n",
              "      <td>26.0</td>\n",
              "      <td>11.595193</td>\n",
              "      <td>climbingup</td>\n",
              "      <td>chest</td>\n",
              "    </tr>\n",
              "    <tr>\n",
              "      <th>15</th>\n",
              "      <td>NVG</td>\n",
              "      <td>1</td>\n",
              "      <td>x</td>\n",
              "      <td>12.820312</td>\n",
              "      <td>10.0</td>\n",
              "      <td>4.504794</td>\n",
              "      <td>climbingup</td>\n",
              "      <td>chest</td>\n",
              "    </tr>\n",
              "    <tr>\n",
              "      <th>16</th>\n",
              "      <td>NVG</td>\n",
              "      <td>1</td>\n",
              "      <td>y</td>\n",
              "      <td>13.744141</td>\n",
              "      <td>11.0</td>\n",
              "      <td>5.264697</td>\n",
              "      <td>climbingup</td>\n",
              "      <td>chest</td>\n",
              "    </tr>\n",
              "    <tr>\n",
              "      <th>...</th>\n",
              "      <td>...</td>\n",
              "      <td>...</td>\n",
              "      <td>...</td>\n",
              "      <td>...</td>\n",
              "      <td>...</td>\n",
              "      <td>...</td>\n",
              "      <td>...</td>\n",
              "      <td>...</td>\n",
              "    </tr>\n",
              "    <tr>\n",
              "      <th>337</th>\n",
              "      <td>HVG</td>\n",
              "      <td>1</td>\n",
              "      <td>y</td>\n",
              "      <td>3.947266</td>\n",
              "      <td>28.0</td>\n",
              "      <td>12.518642</td>\n",
              "      <td>climbingdown</td>\n",
              "      <td>chest</td>\n",
              "    </tr>\n",
              "    <tr>\n",
              "      <th>338</th>\n",
              "      <td>HVG</td>\n",
              "      <td>1</td>\n",
              "      <td>z</td>\n",
              "      <td>3.968750</td>\n",
              "      <td>23.0</td>\n",
              "      <td>9.949156</td>\n",
              "      <td>climbingdown</td>\n",
              "      <td>chest</td>\n",
              "    </tr>\n",
              "    <tr>\n",
              "      <th>339</th>\n",
              "      <td>NVG</td>\n",
              "      <td>1</td>\n",
              "      <td>x</td>\n",
              "      <td>15.609375</td>\n",
              "      <td>16.0</td>\n",
              "      <td>6.598815</td>\n",
              "      <td>climbingdown</td>\n",
              "      <td>chest</td>\n",
              "    </tr>\n",
              "    <tr>\n",
              "      <th>340</th>\n",
              "      <td>NVG</td>\n",
              "      <td>1</td>\n",
              "      <td>y</td>\n",
              "      <td>14.087891</td>\n",
              "      <td>10.0</td>\n",
              "      <td>4.261784</td>\n",
              "      <td>climbingdown</td>\n",
              "      <td>chest</td>\n",
              "    </tr>\n",
              "    <tr>\n",
              "      <th>341</th>\n",
              "      <td>NVG</td>\n",
              "      <td>1</td>\n",
              "      <td>z</td>\n",
              "      <td>9.562500</td>\n",
              "      <td>9.0</td>\n",
              "      <td>4.428011</td>\n",
              "      <td>climbingdown</td>\n",
              "      <td>chest</td>\n",
              "    </tr>\n",
              "  </tbody>\n",
              "</table>\n",
              "<p>180 rows × 8 columns</p>\n",
              "</div>\n",
              "      <button class=\"colab-df-convert\" onclick=\"convertToInteractive('df-0d9d3396-3afc-4f36-accf-3250234388c2')\"\n",
              "              title=\"Convert this dataframe to an interactive table.\"\n",
              "              style=\"display:none;\">\n",
              "        \n",
              "  <svg xmlns=\"http://www.w3.org/2000/svg\" height=\"24px\"viewBox=\"0 0 24 24\"\n",
              "       width=\"24px\">\n",
              "    <path d=\"M0 0h24v24H0V0z\" fill=\"none\"/>\n",
              "    <path d=\"M18.56 5.44l.94 2.06.94-2.06 2.06-.94-2.06-.94-.94-2.06-.94 2.06-2.06.94zm-11 1L8.5 8.5l.94-2.06 2.06-.94-2.06-.94L8.5 2.5l-.94 2.06-2.06.94zm10 10l.94 2.06.94-2.06 2.06-.94-2.06-.94-.94-2.06-.94 2.06-2.06.94z\"/><path d=\"M17.41 7.96l-1.37-1.37c-.4-.4-.92-.59-1.43-.59-.52 0-1.04.2-1.43.59L10.3 9.45l-7.72 7.72c-.78.78-.78 2.05 0 2.83L4 21.41c.39.39.9.59 1.41.59.51 0 1.02-.2 1.41-.59l7.78-7.78 2.81-2.81c.8-.78.8-2.07 0-2.86zM5.41 20L4 18.59l7.72-7.72 1.47 1.35L5.41 20z\"/>\n",
              "  </svg>\n",
              "      </button>\n",
              "      \n",
              "  <style>\n",
              "    .colab-df-container {\n",
              "      display:flex;\n",
              "      flex-wrap:wrap;\n",
              "      gap: 12px;\n",
              "    }\n",
              "\n",
              "    .colab-df-convert {\n",
              "      background-color: #E8F0FE;\n",
              "      border: none;\n",
              "      border-radius: 50%;\n",
              "      cursor: pointer;\n",
              "      display: none;\n",
              "      fill: #1967D2;\n",
              "      height: 32px;\n",
              "      padding: 0 0 0 0;\n",
              "      width: 32px;\n",
              "    }\n",
              "\n",
              "    .colab-df-convert:hover {\n",
              "      background-color: #E2EBFA;\n",
              "      box-shadow: 0px 1px 2px rgba(60, 64, 67, 0.3), 0px 1px 3px 1px rgba(60, 64, 67, 0.15);\n",
              "      fill: #174EA6;\n",
              "    }\n",
              "\n",
              "    [theme=dark] .colab-df-convert {\n",
              "      background-color: #3B4455;\n",
              "      fill: #D2E3FC;\n",
              "    }\n",
              "\n",
              "    [theme=dark] .colab-df-convert:hover {\n",
              "      background-color: #434B5C;\n",
              "      box-shadow: 0px 1px 3px 1px rgba(0, 0, 0, 0.15);\n",
              "      filter: drop-shadow(0px 1px 2px rgba(0, 0, 0, 0.3));\n",
              "      fill: #FFFFFF;\n",
              "    }\n",
              "  </style>\n",
              "\n",
              "      <script>\n",
              "        const buttonEl =\n",
              "          document.querySelector('#df-0d9d3396-3afc-4f36-accf-3250234388c2 button.colab-df-convert');\n",
              "        buttonEl.style.display =\n",
              "          google.colab.kernel.accessAllowed ? 'block' : 'none';\n",
              "\n",
              "        async function convertToInteractive(key) {\n",
              "          const element = document.querySelector('#df-0d9d3396-3afc-4f36-accf-3250234388c2');\n",
              "          const dataTable =\n",
              "            await google.colab.kernel.invokeFunction('convertToInteractive',\n",
              "                                                     [key], {});\n",
              "          if (!dataTable) return;\n",
              "\n",
              "          const docLinkHtml = 'Like what you see? Visit the ' +\n",
              "            '<a target=\"_blank\" href=https://colab.research.google.com/notebooks/data_table.ipynb>data table notebook</a>'\n",
              "            + ' to learn more about interactive tables.';\n",
              "          element.innerHTML = '';\n",
              "          dataTable['output_type'] = 'display_data';\n",
              "          await google.colab.output.renderOutput(dataTable, element);\n",
              "          const docLink = document.createElement('div');\n",
              "          docLink.innerHTML = docLinkHtml;\n",
              "          element.appendChild(docLink);\n",
              "        }\n",
              "      </script>\n",
              "    </div>\n",
              "  </div>\n",
              "  "
            ]
          },
          "metadata": {},
          "execution_count": 135
        }
      ]
    },
    {
      "cell_type": "code",
      "source": [
        "Climbing=Climbing[Climbing['Method']=='NVG']"
      ],
      "metadata": {
        "id": "AQicsjyeAJc-"
      },
      "execution_count": null,
      "outputs": []
    },
    {
      "cell_type": "code",
      "source": [
        "sns.scatterplot(x=Climbing['Average Degree'], y=Climbing['Network Diameter'], hue=Climbing['Activity']).set(title='Based on all axis')"
      ],
      "metadata": {
        "colab": {
          "base_uri": "https://localhost:8080/",
          "height": 312
        },
        "id": "FPMbEnAqAJc_",
        "outputId": "4cf24be5-4735-4deb-8adb-411b16d30053"
      },
      "execution_count": null,
      "outputs": [
        {
          "output_type": "execute_result",
          "data": {
            "text/plain": [
              "[Text(0.5, 1.0, 'Based on all axis')]"
            ]
          },
          "metadata": {},
          "execution_count": 137
        },
        {
          "output_type": "display_data",
          "data": {
            "text/plain": [
              "<Figure size 432x288 with 1 Axes>"
            ],
            "image/png": "[encoded data removed]"
          },
          "metadata": {
            "needs_background": "light"
          }
        }
      ]
    },
    {
      "cell_type": "code",
      "source": [
        "ClimbingX=Climbing[Climbing['Accelerometer Axis']=='x']\n",
        "sns.scatterplot(x=ClimbingX['Average Degree'], y=ClimbingX['Network Diameter'], hue=ClimbingX['Activity']).set(title=\"Based on X-axis\")"
      ],
      "metadata": {
        "colab": {
          "base_uri": "https://localhost:8080/",
          "height": 312
        },
        "id": "Rav6QChZAJc_",
        "outputId": "e4780903-e3e7-47d8-e0a2-6eab113a840a"
      },
      "execution_count": null,
      "outputs": [
        {
          "output_type": "execute_result",
          "data": {
            "text/plain": [
              "[Text(0.5, 1.0, 'Based on X-axis')]"
            ]
          },
          "metadata": {},
          "execution_count": 138
        },
        {
          "output_type": "display_data",
          "data": {
            "text/plain": [
              "<Figure size 432x288 with 1 Axes>"
            ],
            "image/png": "[encoded data removed]"
          },
          "metadata": {
            "needs_background": "light"
          }
        }
      ]
    },
    {
      "cell_type": "code",
      "source": [
        "ClimbingY=Climbing[Climbing['Accelerometer Axis']=='y']\n",
        "sns.scatterplot(x=ClimbingY['Average Degree'], y=ClimbingY['Network Diameter'], hue=ClimbingY['Activity']).set(title=\"Based on Y-axis\")"
      ],
      "metadata": {
        "colab": {
          "base_uri": "https://localhost:8080/",
          "height": 312
        },
        "id": "vL34_lldAJc_",
        "outputId": "ed669c59-525e-4bb3-e371-808e02f4ec77"
      },
      "execution_count": null,
      "outputs": [
        {
          "output_type": "execute_result",
          "data": {
            "text/plain": [
              "[Text(0.5, 1.0, 'Based on Y-axis')]"
            ]
          },
          "metadata": {},
          "execution_count": 139
        },
        {
          "output_type": "display_data",
          "data": {
            "text/plain": [
              "<Figure size 432x288 with 1 Axes>"
            ],
            "image/png": "[encoded data removed]"
          },
          "metadata": {
            "needs_background": "light"
          }
        }
      ]
    },
    {
      "cell_type": "code",
      "source": [
        "ClimbingZ=Climbing[Climbing['Accelerometer Axis']=='z']\n",
        "sns.scatterplot(x=ClimbingZ['Average Degree'], y=ClimbingZ['Network Diameter'], hue=ClimbingZ['Activity']).set(title=\"Based on Z-axis\")"
      ],
      "metadata": {
        "colab": {
          "base_uri": "https://localhost:8080/",
          "height": 312
        },
        "id": "JaAVYZK4AJc_",
        "outputId": "fe2e6be2-ba86-4e62-8986-a1fa6d0b5db7"
      },
      "execution_count": null,
      "outputs": [
        {
          "output_type": "execute_result",
          "data": {
            "text/plain": [
              "[Text(0.5, 1.0, 'Based on Z-axis')]"
            ]
          },
          "metadata": {},
          "execution_count": 140
        },
        {
          "output_type": "display_data",
          "data": {
            "text/plain": [
              "<Figure size 432x288 with 1 Axes>"
            ],
            "image/png": "[encoded data removed]"
          },
          "metadata": {
            "needs_background": "light"
          }
        }
      ]
    },
    {
      "cell_type": "markdown",
      "source": [
        "### Scatter Plot for Running and Walking"
      ],
      "metadata": {
        "id": "r_OpdoXFAJc_"
      }
    },
    {
      "cell_type": "markdown",
      "source": [
        "### Horizontal Visibility Graph"
      ],
      "metadata": {
        "id": "kzrj0yg0AJdA"
      }
    },
    {
      "cell_type": "code",
      "source": [
        "RunWalk=Running.append(Walking)\n",
        "RunWalk"
      ],
      "metadata": {
        "colab": {
          "base_uri": "https://localhost:8080/",
          "height": 419
        },
        "id": "D0ODDcQLAJdA",
        "outputId": "73997166-3d55-4969-e743-0bcaf66e6d98"
      },
      "execution_count": null,
      "outputs": [
        {
          "output_type": "execute_result",
          "data": {
            "text/plain": [
              "    Method Subject Accelerometer Axis  Average Degree  Network Diameter  \\\n",
              "366    HVG       1                  x        3.964844              20.0   \n",
              "367    HVG       1                  y        3.662109             170.0   \n",
              "368    HVG       1                  z        3.974609              20.0   \n",
              "369    NVG       1                  x        8.277344               9.0   \n",
              "370    NVG       1                  y        9.763672             168.0   \n",
              "..     ...     ...                ...             ...               ...   \n",
              "709    HVG       1                  y        3.951172              22.0   \n",
              "710    HVG       1                  z        3.957031              23.0   \n",
              "711    NVG       1                  x       11.451172              10.0   \n",
              "712    NVG       1                  y       11.986328               9.0   \n",
              "713    NVG       1                  z        8.570312              10.0   \n",
              "\n",
              "     Average Path Length Activity Body Part  \n",
              "366             8.672547  running     chest  \n",
              "367            59.485246  running     chest  \n",
              "368             9.290619  running     chest  \n",
              "369             4.772231  running     chest  \n",
              "370            57.067139  running     chest  \n",
              "..                   ...      ...       ...  \n",
              "709            10.666252  walking     chest  \n",
              "710            10.602296  walking     chest  \n",
              "711             4.441492  walking     chest  \n",
              "712             4.241050  walking     chest  \n",
              "713             4.897722  walking     chest  \n",
              "\n",
              "[180 rows x 8 columns]"
            ],
            "text/html": [
              "\n",
              "  <div id=\"df-079b9ba5-5ed6-4fe6-b6db-71c1f1c85bcf\">\n",
              "    <div class=\"colab-df-container\">\n",
              "      <div>\n",
              "<style scoped>\n",
              "    .dataframe tbody tr th:only-of-type {\n",
              "        vertical-align: middle;\n",
              "    }\n",
              "\n",
              "    .dataframe tbody tr th {\n",
              "        vertical-align: top;\n",
              "    }\n",
              "\n",
              "    .dataframe thead th {\n",
              "        text-align: right;\n",
              "    }\n",
              "</style>\n",
              "<table border=\"1\" class=\"dataframe\">\n",
              "  <thead>\n",
              "    <tr style=\"text-align: right;\">\n",
              "      <th></th>\n",
              "      <th>Method</th>\n",
              "      <th>Subject</th>\n",
              "      <th>Accelerometer Axis</th>\n",
              "      <th>Average Degree</th>\n",
              "      <th>Network Diameter</th>\n",
              "      <th>Average Path Length</th>\n",
              "      <th>Activity</th>\n",
              "      <th>Body Part</th>\n",
              "    </tr>\n",
              "  </thead>\n",
              "  <tbody>\n",
              "    <tr>\n",
              "      <th>366</th>\n",
              "      <td>HVG</td>\n",
              "      <td>1</td>\n",
              "      <td>x</td>\n",
              "      <td>3.964844</td>\n",
              "      <td>20.0</td>\n",
              "      <td>8.672547</td>\n",
              "      <td>running</td>\n",
              "      <td>chest</td>\n",
              "    </tr>\n",
              "    <tr>\n",
              "      <th>367</th>\n",
              "      <td>HVG</td>\n",
              "      <td>1</td>\n",
              "      <td>y</td>\n",
              "      <td>3.662109</td>\n",
              "      <td>170.0</td>\n",
              "      <td>59.485246</td>\n",
              "      <td>running</td>\n",
              "      <td>chest</td>\n",
              "    </tr>\n",
              "    <tr>\n",
              "      <th>368</th>\n",
              "      <td>HVG</td>\n",
              "      <td>1</td>\n",
              "      <td>z</td>\n",
              "      <td>3.974609</td>\n",
              "      <td>20.0</td>\n",
              "      <td>9.290619</td>\n",
              "      <td>running</td>\n",
              "      <td>chest</td>\n",
              "    </tr>\n",
              "    <tr>\n",
              "      <th>369</th>\n",
              "      <td>NVG</td>\n",
              "      <td>1</td>\n",
              "      <td>x</td>\n",
              "      <td>8.277344</td>\n",
              "      <td>9.0</td>\n",
              "      <td>4.772231</td>\n",
              "      <td>running</td>\n",
              "      <td>chest</td>\n",
              "    </tr>\n",
              "    <tr>\n",
              "      <th>370</th>\n",
              "      <td>NVG</td>\n",
              "      <td>1</td>\n",
              "      <td>y</td>\n",
              "      <td>9.763672</td>\n",
              "      <td>168.0</td>\n",
              "      <td>57.067139</td>\n",
              "      <td>running</td>\n",
              "      <td>chest</td>\n",
              "    </tr>\n",
              "    <tr>\n",
              "      <th>...</th>\n",
              "      <td>...</td>\n",
              "      <td>...</td>\n",
              "      <td>...</td>\n",
              "      <td>...</td>\n",
              "      <td>...</td>\n",
              "      <td>...</td>\n",
              "      <td>...</td>\n",
              "      <td>...</td>\n",
              "    </tr>\n",
              "    <tr>\n",
              "      <th>709</th>\n",
              "      <td>HVG</td>\n",
              "      <td>1</td>\n",
              "      <td>y</td>\n",
              "      <td>3.951172</td>\n",
              "      <td>22.0</td>\n",
              "      <td>10.666252</td>\n",
              "      <td>walking</td>\n",
              "      <td>chest</td>\n",
              "    </tr>\n",
              "    <tr>\n",
              "      <th>710</th>\n",
              "      <td>HVG</td>\n",
              "      <td>1</td>\n",
              "      <td>z</td>\n",
              "      <td>3.957031</td>\n",
              "      <td>23.0</td>\n",
              "      <td>10.602296</td>\n",
              "      <td>walking</td>\n",
              "      <td>chest</td>\n",
              "    </tr>\n",
              "    <tr>\n",
              "      <th>711</th>\n",
              "      <td>NVG</td>\n",
              "      <td>1</td>\n",
              "      <td>x</td>\n",
              "      <td>11.451172</td>\n",
              "      <td>10.0</td>\n",
              "      <td>4.441492</td>\n",
              "      <td>walking</td>\n",
              "      <td>chest</td>\n",
              "    </tr>\n",
              "    <tr>\n",
              "      <th>712</th>\n",
              "      <td>NVG</td>\n",
              "      <td>1</td>\n",
              "      <td>y</td>\n",
              "      <td>11.986328</td>\n",
              "      <td>9.0</td>\n",
              "      <td>4.241050</td>\n",
              "      <td>walking</td>\n",
              "      <td>chest</td>\n",
              "    </tr>\n",
              "    <tr>\n",
              "      <th>713</th>\n",
              "      <td>NVG</td>\n",
              "      <td>1</td>\n",
              "      <td>z</td>\n",
              "      <td>8.570312</td>\n",
              "      <td>10.0</td>\n",
              "      <td>4.897722</td>\n",
              "      <td>walking</td>\n",
              "      <td>chest</td>\n",
              "    </tr>\n",
              "  </tbody>\n",
              "</table>\n",
              "<p>180 rows × 8 columns</p>\n",
              "</div>\n",
              "      <button class=\"colab-df-convert\" onclick=\"convertToInteractive('df-079b9ba5-5ed6-4fe6-b6db-71c1f1c85bcf')\"\n",
              "              title=\"Convert this dataframe to an interactive table.\"\n",
              "              style=\"display:none;\">\n",
              "        \n",
              "  <svg xmlns=\"http://www.w3.org/2000/svg\" height=\"24px\"viewBox=\"0 0 24 24\"\n",
              "       width=\"24px\">\n",
              "    <path d=\"M0 0h24v24H0V0z\" fill=\"none\"/>\n",
              "    <path d=\"M18.56 5.44l.94 2.06.94-2.06 2.06-.94-2.06-.94-.94-2.06-.94 2.06-2.06.94zm-11 1L8.5 8.5l.94-2.06 2.06-.94-2.06-.94L8.5 2.5l-.94 2.06-2.06.94zm10 10l.94 2.06.94-2.06 2.06-.94-2.06-.94-.94-2.06-.94 2.06-2.06.94z\"/><path d=\"M17.41 7.96l-1.37-1.37c-.4-.4-.92-.59-1.43-.59-.52 0-1.04.2-1.43.59L10.3 9.45l-7.72 7.72c-.78.78-.78 2.05 0 2.83L4 21.41c.39.39.9.59 1.41.59.51 0 1.02-.2 1.41-.59l7.78-7.78 2.81-2.81c.8-.78.8-2.07 0-2.86zM5.41 20L4 18.59l7.72-7.72 1.47 1.35L5.41 20z\"/>\n",
              "  </svg>\n",
              "      </button>\n",
              "      \n",
              "  <style>\n",
              "    .colab-df-container {\n",
              "      display:flex;\n",
              "      flex-wrap:wrap;\n",
              "      gap: 12px;\n",
              "    }\n",
              "\n",
              "    .colab-df-convert {\n",
              "      background-color: #E8F0FE;\n",
              "      border: none;\n",
              "      border-radius: 50%;\n",
              "      cursor: pointer;\n",
              "      display: none;\n",
              "      fill: #1967D2;\n",
              "      height: 32px;\n",
              "      padding: 0 0 0 0;\n",
              "      width: 32px;\n",
              "    }\n",
              "\n",
              "    .colab-df-convert:hover {\n",
              "      background-color: #E2EBFA;\n",
              "      box-shadow: 0px 1px 2px rgba(60, 64, 67, 0.3), 0px 1px 3px 1px rgba(60, 64, 67, 0.15);\n",
              "      fill: #174EA6;\n",
              "    }\n",
              "\n",
              "    [theme=dark] .colab-df-convert {\n",
              "      background-color: #3B4455;\n",
              "      fill: #D2E3FC;\n",
              "    }\n",
              "\n",
              "    [theme=dark] .colab-df-convert:hover {\n",
              "      background-color: #434B5C;\n",
              "      box-shadow: 0px 1px 3px 1px rgba(0, 0, 0, 0.15);\n",
              "      filter: drop-shadow(0px 1px 2px rgba(0, 0, 0, 0.3));\n",
              "      fill: #FFFFFF;\n",
              "    }\n",
              "  </style>\n",
              "\n",
              "      <script>\n",
              "        const buttonEl =\n",
              "          document.querySelector('#df-079b9ba5-5ed6-4fe6-b6db-71c1f1c85bcf button.colab-df-convert');\n",
              "        buttonEl.style.display =\n",
              "          google.colab.kernel.accessAllowed ? 'block' : 'none';\n",
              "\n",
              "        async function convertToInteractive(key) {\n",
              "          const element = document.querySelector('#df-079b9ba5-5ed6-4fe6-b6db-71c1f1c85bcf');\n",
              "          const dataTable =\n",
              "            await google.colab.kernel.invokeFunction('convertToInteractive',\n",
              "                                                     [key], {});\n",
              "          if (!dataTable) return;\n",
              "\n",
              "          const docLinkHtml = 'Like what you see? Visit the ' +\n",
              "            '<a target=\"_blank\" href=https://colab.research.google.com/notebooks/data_table.ipynb>data table notebook</a>'\n",
              "            + ' to learn more about interactive tables.';\n",
              "          element.innerHTML = '';\n",
              "          dataTable['output_type'] = 'display_data';\n",
              "          await google.colab.output.renderOutput(dataTable, element);\n",
              "          const docLink = document.createElement('div');\n",
              "          docLink.innerHTML = docLinkHtml;\n",
              "          element.appendChild(docLink);\n",
              "        }\n",
              "      </script>\n",
              "    </div>\n",
              "  </div>\n",
              "  "
            ]
          },
          "metadata": {},
          "execution_count": 141
        }
      ]
    },
    {
      "cell_type": "code",
      "source": [
        "RunWalk=RunWalk[RunWalk['Method']=='HVG']"
      ],
      "metadata": {
        "id": "pccBSjrDAJdA"
      },
      "execution_count": null,
      "outputs": []
    },
    {
      "cell_type": "code",
      "source": [
        "sns.scatterplot(x=RunWalk['Average Degree'], y=RunWalk['Network Diameter'], hue=RunWalk['Activity']).set(title='Based on all axis')"
      ],
      "metadata": {
        "colab": {
          "base_uri": "https://localhost:8080/",
          "height": 312
        },
        "id": "m8zWfPKeAJdA",
        "outputId": "faaaddb2-b520-4e07-b200-8567c56a4f52"
      },
      "execution_count": null,
      "outputs": [
        {
          "output_type": "execute_result",
          "data": {
            "text/plain": [
              "[Text(0.5, 1.0, 'Based on all axis')]"
            ]
          },
          "metadata": {},
          "execution_count": 143
        },
        {
          "output_type": "display_data",
          "data": {
            "text/plain": [
              "<Figure size 432x288 with 1 Axes>"
            ],
            "image/png": "[encoded data removed]"
          },
          "metadata": {
            "needs_background": "light"
          }
        }
      ]
    },
    {
      "cell_type": "code",
      "source": [
        "RunWalkX=RunWalk[RunWalk['Accelerometer Axis']=='x']\n",
        "sns.scatterplot(x=RunWalkX['Average Degree'], y=RunWalkX['Network Diameter'], hue=RunWalkX['Activity']).set(title=\"Based on X-axis\")"
      ],
      "metadata": {
        "colab": {
          "base_uri": "https://localhost:8080/",
          "height": 312
        },
        "id": "wDqWEQnDAJdA",
        "outputId": "b8c910fa-ee1e-4427-db5c-f8c7c1c81ac3"
      },
      "execution_count": null,
      "outputs": [
        {
          "output_type": "execute_result",
          "data": {
            "text/plain": [
              "[Text(0.5, 1.0, 'Based on X-axis')]"
            ]
          },
          "metadata": {},
          "execution_count": 144
        },
        {
          "output_type": "display_data",
          "data": {
            "text/plain": [
              "<Figure size 432x288 with 1 Axes>"
            ],
            "image/png": "[encoded data removed]"
          },
          "metadata": {
            "needs_background": "light"
          }
        }
      ]
    },
    {
      "cell_type": "code",
      "source": [
        "RunWalkX=RunWalk[RunWalk['Accelerometer Axis']=='y']\n",
        "sns.scatterplot(x=RunWalkX['Average Degree'], y=RunWalkX['Network Diameter'], hue=RunWalkX['Activity']).set(title=\"Based on Y-axis\")"
      ],
      "metadata": {
        "colab": {
          "base_uri": "https://localhost:8080/",
          "height": 312
        },
        "id": "UcJq3dA-AJdA",
        "outputId": "43f66f0f-fde6-459c-e74e-f0225942ace4"
      },
      "execution_count": null,
      "outputs": [
        {
          "output_type": "execute_result",
          "data": {
            "text/plain": [
              "[Text(0.5, 1.0, 'Based on Y-axis')]"
            ]
          },
          "metadata": {},
          "execution_count": 145
        },
        {
          "output_type": "display_data",
          "data": {
            "text/plain": [
              "<Figure size 432x288 with 1 Axes>"
            ],
            "image/png": "[encoded data removed]"
          },
          "metadata": {
            "needs_background": "light"
          }
        }
      ]
    },
    {
      "cell_type": "code",
      "source": [
        "RunWalkX=RunWalk[RunWalk['Accelerometer Axis']=='z']\n",
        "sns.scatterplot(x=RunWalkX['Average Degree'], y=RunWalkX['Network Diameter'], hue=RunWalkX['Activity']).set(title=\"Based on Z-axis\")"
      ],
      "metadata": {
        "colab": {
          "base_uri": "https://localhost:8080/",
          "height": 312
        },
        "id": "NPMbtVBmAJdA",
        "outputId": "2554d3d1-f6c4-4374-e402-320ba4d5b5fa"
      },
      "execution_count": null,
      "outputs": [
        {
          "output_type": "execute_result",
          "data": {
            "text/plain": [
              "[Text(0.5, 1.0, 'Based on Z-axis')]"
            ]
          },
          "metadata": {},
          "execution_count": 146
        },
        {
          "output_type": "display_data",
          "data": {
            "text/plain": [
              "<Figure size 432x288 with 1 Axes>"
            ],
            "image/png": "[encoded data removed]"
          },
          "metadata": {
            "needs_background": "light"
          }
        }
      ]
    },
    {
      "cell_type": "markdown",
      "source": [
        "### Natural Visibility Graph"
      ],
      "metadata": {
        "id": "5qed5gngAJdB"
      }
    },
    {
      "cell_type": "code",
      "source": [
        "RunWalk=Running.append(Walking)\n",
        "RunWalk"
      ],
      "metadata": {
        "colab": {
          "base_uri": "https://localhost:8080/",
          "height": 419
        },
        "id": "nZZe4qSYAJdB",
        "outputId": "40b18fc1-c43f-40f9-a4bc-51ac3aa64e0d"
      },
      "execution_count": null,
      "outputs": [
        {
          "output_type": "execute_result",
          "data": {
            "text/plain": [
              "    Method Subject Accelerometer Axis  Average Degree  Network Diameter  \\\n",
              "366    HVG       1                  x        3.964844              20.0   \n",
              "367    HVG       1                  y        3.662109             170.0   \n",
              "368    HVG       1                  z        3.974609              20.0   \n",
              "369    NVG       1                  x        8.277344               9.0   \n",
              "370    NVG       1                  y        9.763672             168.0   \n",
              "..     ...     ...                ...             ...               ...   \n",
              "709    HVG       1                  y        3.951172              22.0   \n",
              "710    HVG       1                  z        3.957031              23.0   \n",
              "711    NVG       1                  x       11.451172              10.0   \n",
              "712    NVG       1                  y       11.986328               9.0   \n",
              "713    NVG       1                  z        8.570312              10.0   \n",
              "\n",
              "     Average Path Length Activity Body Part  \n",
              "366             8.672547  running     chest  \n",
              "367            59.485246  running     chest  \n",
              "368             9.290619  running     chest  \n",
              "369             4.772231  running     chest  \n",
              "370            57.067139  running     chest  \n",
              "..                   ...      ...       ...  \n",
              "709            10.666252  walking     chest  \n",
              "710            10.602296  walking     chest  \n",
              "711             4.441492  walking     chest  \n",
              "712             4.241050  walking     chest  \n",
              "713             4.897722  walking     chest  \n",
              "\n",
              "[180 rows x 8 columns]"
            ],
            "text/html": [
              "\n",
              "  <div id=\"df-fca64421-808c-4d12-9ad8-5cd88e906a3e\">\n",
              "    <div class=\"colab-df-container\">\n",
              "      <div>\n",
              "<style scoped>\n",
              "    .dataframe tbody tr th:only-of-type {\n",
              "        vertical-align: middle;\n",
              "    }\n",
              "\n",
              "    .dataframe tbody tr th {\n",
              "        vertical-align: top;\n",
              "    }\n",
              "\n",
              "    .dataframe thead th {\n",
              "        text-align: right;\n",
              "    }\n",
              "</style>\n",
              "<table border=\"1\" class=\"dataframe\">\n",
              "  <thead>\n",
              "    <tr style=\"text-align: right;\">\n",
              "      <th></th>\n",
              "      <th>Method</th>\n",
              "      <th>Subject</th>\n",
              "      <th>Accelerometer Axis</th>\n",
              "      <th>Average Degree</th>\n",
              "      <th>Network Diameter</th>\n",
              "      <th>Average Path Length</th>\n",
              "      <th>Activity</th>\n",
              "      <th>Body Part</th>\n",
              "    </tr>\n",
              "  </thead>\n",
              "  <tbody>\n",
              "    <tr>\n",
              "      <th>366</th>\n",
              "      <td>HVG</td>\n",
              "      <td>1</td>\n",
              "      <td>x</td>\n",
              "      <td>3.964844</td>\n",
              "      <td>20.0</td>\n",
              "      <td>8.672547</td>\n",
              "      <td>running</td>\n",
              "      <td>chest</td>\n",
              "    </tr>\n",
              "    <tr>\n",
              "      <th>367</th>\n",
              "      <td>HVG</td>\n",
              "      <td>1</td>\n",
              "      <td>y</td>\n",
              "      <td>3.662109</td>\n",
              "      <td>170.0</td>\n",
              "      <td>59.485246</td>\n",
              "      <td>running</td>\n",
              "      <td>chest</td>\n",
              "    </tr>\n",
              "    <tr>\n",
              "      <th>368</th>\n",
              "      <td>HVG</td>\n",
              "      <td>1</td>\n",
              "      <td>z</td>\n",
              "      <td>3.974609</td>\n",
              "      <td>20.0</td>\n",
              "      <td>9.290619</td>\n",
              "      <td>running</td>\n",
              "      <td>chest</td>\n",
              "    </tr>\n",
              "    <tr>\n",
              "      <th>369</th>\n",
              "      <td>NVG</td>\n",
              "      <td>1</td>\n",
              "      <td>x</td>\n",
              "      <td>8.277344</td>\n",
              "      <td>9.0</td>\n",
              "      <td>4.772231</td>\n",
              "      <td>running</td>\n",
              "      <td>chest</td>\n",
              "    </tr>\n",
              "    <tr>\n",
              "      <th>370</th>\n",
              "      <td>NVG</td>\n",
              "      <td>1</td>\n",
              "      <td>y</td>\n",
              "      <td>9.763672</td>\n",
              "      <td>168.0</td>\n",
              "      <td>57.067139</td>\n",
              "      <td>running</td>\n",
              "      <td>chest</td>\n",
              "    </tr>\n",
              "    <tr>\n",
              "      <th>...</th>\n",
              "      <td>...</td>\n",
              "      <td>...</td>\n",
              "      <td>...</td>\n",
              "      <td>...</td>\n",
              "      <td>...</td>\n",
              "      <td>...</td>\n",
              "      <td>...</td>\n",
              "      <td>...</td>\n",
              "    </tr>\n",
              "    <tr>\n",
              "      <th>709</th>\n",
              "      <td>HVG</td>\n",
              "      <td>1</td>\n",
              "      <td>y</td>\n",
              "      <td>3.951172</td>\n",
              "      <td>22.0</td>\n",
              "      <td>10.666252</td>\n",
              "      <td>walking</td>\n",
              "      <td>chest</td>\n",
              "    </tr>\n",
              "    <tr>\n",
              "      <th>710</th>\n",
              "      <td>HVG</td>\n",
              "      <td>1</td>\n",
              "      <td>z</td>\n",
              "      <td>3.957031</td>\n",
              "      <td>23.0</td>\n",
              "      <td>10.602296</td>\n",
              "      <td>walking</td>\n",
              "      <td>chest</td>\n",
              "    </tr>\n",
              "    <tr>\n",
              "      <th>711</th>\n",
              "      <td>NVG</td>\n",
              "      <td>1</td>\n",
              "      <td>x</td>\n",
              "      <td>11.451172</td>\n",
              "      <td>10.0</td>\n",
              "      <td>4.441492</td>\n",
              "      <td>walking</td>\n",
              "      <td>chest</td>\n",
              "    </tr>\n",
              "    <tr>\n",
              "      <th>712</th>\n",
              "      <td>NVG</td>\n",
              "      <td>1</td>\n",
              "      <td>y</td>\n",
              "      <td>11.986328</td>\n",
              "      <td>9.0</td>\n",
              "      <td>4.241050</td>\n",
              "      <td>walking</td>\n",
              "      <td>chest</td>\n",
              "    </tr>\n",
              "    <tr>\n",
              "      <th>713</th>\n",
              "      <td>NVG</td>\n",
              "      <td>1</td>\n",
              "      <td>z</td>\n",
              "      <td>8.570312</td>\n",
              "      <td>10.0</td>\n",
              "      <td>4.897722</td>\n",
              "      <td>walking</td>\n",
              "      <td>chest</td>\n",
              "    </tr>\n",
              "  </tbody>\n",
              "</table>\n",
              "<p>180 rows × 8 columns</p>\n",
              "</div>\n",
              "      <button class=\"colab-df-convert\" onclick=\"convertToInteractive('df-fca64421-808c-4d12-9ad8-5cd88e906a3e')\"\n",
              "              title=\"Convert this dataframe to an interactive table.\"\n",
              "              style=\"display:none;\">\n",
              "        \n",
              "  <svg xmlns=\"http://www.w3.org/2000/svg\" height=\"24px\"viewBox=\"0 0 24 24\"\n",
              "       width=\"24px\">\n",
              "    <path d=\"M0 0h24v24H0V0z\" fill=\"none\"/>\n",
              "    <path d=\"M18.56 5.44l.94 2.06.94-2.06 2.06-.94-2.06-.94-.94-2.06-.94 2.06-2.06.94zm-11 1L8.5 8.5l.94-2.06 2.06-.94-2.06-.94L8.5 2.5l-.94 2.06-2.06.94zm10 10l.94 2.06.94-2.06 2.06-.94-2.06-.94-.94-2.06-.94 2.06-2.06.94z\"/><path d=\"M17.41 7.96l-1.37-1.37c-.4-.4-.92-.59-1.43-.59-.52 0-1.04.2-1.43.59L10.3 9.45l-7.72 7.72c-.78.78-.78 2.05 0 2.83L4 21.41c.39.39.9.59 1.41.59.51 0 1.02-.2 1.41-.59l7.78-7.78 2.81-2.81c.8-.78.8-2.07 0-2.86zM5.41 20L4 18.59l7.72-7.72 1.47 1.35L5.41 20z\"/>\n",
              "  </svg>\n",
              "      </button>\n",
              "      \n",
              "  <style>\n",
              "    .colab-df-container {\n",
              "      display:flex;\n",
              "      flex-wrap:wrap;\n",
              "      gap: 12px;\n",
              "    }\n",
              "\n",
              "    .colab-df-convert {\n",
              "      background-color: #E8F0FE;\n",
              "      border: none;\n",
              "      border-radius: 50%;\n",
              "      cursor: pointer;\n",
              "      display: none;\n",
              "      fill: #1967D2;\n",
              "      height: 32px;\n",
              "      padding: 0 0 0 0;\n",
              "      width: 32px;\n",
              "    }\n",
              "\n",
              "    .colab-df-convert:hover {\n",
              "      background-color: #E2EBFA;\n",
              "      box-shadow: 0px 1px 2px rgba(60, 64, 67, 0.3), 0px 1px 3px 1px rgba(60, 64, 67, 0.15);\n",
              "      fill: #174EA6;\n",
              "    }\n",
              "\n",
              "    [theme=dark] .colab-df-convert {\n",
              "      background-color: #3B4455;\n",
              "      fill: #D2E3FC;\n",
              "    }\n",
              "\n",
              "    [theme=dark] .colab-df-convert:hover {\n",
              "      background-color: #434B5C;\n",
              "      box-shadow: 0px 1px 3px 1px rgba(0, 0, 0, 0.15);\n",
              "      filter: drop-shadow(0px 1px 2px rgba(0, 0, 0, 0.3));\n",
              "      fill: #FFFFFF;\n",
              "    }\n",
              "  </style>\n",
              "\n",
              "      <script>\n",
              "        const buttonEl =\n",
              "          document.querySelector('#df-fca64421-808c-4d12-9ad8-5cd88e906a3e button.colab-df-convert');\n",
              "        buttonEl.style.display =\n",
              "          google.colab.kernel.accessAllowed ? 'block' : 'none';\n",
              "\n",
              "        async function convertToInteractive(key) {\n",
              "          const element = document.querySelector('#df-fca64421-808c-4d12-9ad8-5cd88e906a3e');\n",
              "          const dataTable =\n",
              "            await google.colab.kernel.invokeFunction('convertToInteractive',\n",
              "                                                     [key], {});\n",
              "          if (!dataTable) return;\n",
              "\n",
              "          const docLinkHtml = 'Like what you see? Visit the ' +\n",
              "            '<a target=\"_blank\" href=https://colab.research.google.com/notebooks/data_table.ipynb>data table notebook</a>'\n",
              "            + ' to learn more about interactive tables.';\n",
              "          element.innerHTML = '';\n",
              "          dataTable['output_type'] = 'display_data';\n",
              "          await google.colab.output.renderOutput(dataTable, element);\n",
              "          const docLink = document.createElement('div');\n",
              "          docLink.innerHTML = docLinkHtml;\n",
              "          element.appendChild(docLink);\n",
              "        }\n",
              "      </script>\n",
              "    </div>\n",
              "  </div>\n",
              "  "
            ]
          },
          "metadata": {},
          "execution_count": 147
        }
      ]
    },
    {
      "cell_type": "code",
      "source": [
        "RunWalk=RunWalk[RunWalk['Method']=='NVG']"
      ],
      "metadata": {
        "id": "4fUIbSAuAJdB"
      },
      "execution_count": null,
      "outputs": []
    },
    {
      "cell_type": "code",
      "source": [
        "sns.scatterplot(x=RunWalk['Average Degree'], y=RunWalk['Network Diameter'], hue=RunWalk['Activity']).set(title='Based on all axis')"
      ],
      "metadata": {
        "colab": {
          "base_uri": "https://localhost:8080/",
          "height": 312
        },
        "id": "r3h8DpVcAJdB",
        "outputId": "8d73e0a1-39c5-471d-9ea5-38882bceb02e"
      },
      "execution_count": null,
      "outputs": [
        {
          "output_type": "execute_result",
          "data": {
            "text/plain": [
              "[Text(0.5, 1.0, 'Based on all axis')]"
            ]
          },
          "metadata": {},
          "execution_count": 149
        },
        {
          "output_type": "display_data",
          "data": {
            "text/plain": [
              "<Figure size 432x288 with 1 Axes>"
            ],
            "image/png": "[encoded data removed]"
          },
          "metadata": {
            "needs_background": "light"
          }
        }
      ]
    },
    {
      "cell_type": "code",
      "source": [
        "RunWalkX=RunWalk[RunWalk['Accelerometer Axis']=='x']\n",
        "sns.scatterplot(x=RunWalkX['Average Degree'], y=RunWalkX['Network Diameter'], hue=RunWalkX['Activity']).set(title=\"Based on X-axis\")"
      ],
      "metadata": {
        "colab": {
          "base_uri": "https://localhost:8080/",
          "height": 312
        },
        "id": "6TdVUbBZAJdB",
        "outputId": "5225416a-6a83-4c47-a19d-bc93f7b8829c"
      },
      "execution_count": null,
      "outputs": [
        {
          "output_type": "execute_result",
          "data": {
            "text/plain": [
              "[Text(0.5, 1.0, 'Based on X-axis')]"
            ]
          },
          "metadata": {},
          "execution_count": 150
        },
        {
          "output_type": "display_data",
          "data": {
            "text/plain": [
              "<Figure size 432x288 with 1 Axes>"
            ],
            "image/png": "[encoded data removed]"
          },
          "metadata": {
            "needs_background": "light"
          }
        }
      ]
    },
    {
      "cell_type": "code",
      "source": [
        "RunWalkX=RunWalk[RunWalk['Accelerometer Axis']=='y']\n",
        "sns.scatterplot(x=RunWalkX['Average Degree'], y=RunWalkX['Network Diameter'], hue=RunWalkX['Activity']).set(title=\"Based on Y-axis\")"
      ],
      "metadata": {
        "colab": {
          "base_uri": "https://localhost:8080/",
          "height": 312
        },
        "id": "lY2L-rI3AJdB",
        "outputId": "a5589012-f3b9-48e9-b88f-dcc52f8374d8"
      },
      "execution_count": null,
      "outputs": [
        {
          "output_type": "execute_result",
          "data": {
            "text/plain": [
              "[Text(0.5, 1.0, 'Based on Y-axis')]"
            ]
          },
          "metadata": {},
          "execution_count": 151
        },
        {
          "output_type": "display_data",
          "data": {
            "text/plain": [
              "<Figure size 432x288 with 1 Axes>"
            ],
            "image/png": "[encoded data removed]"
          },
          "metadata": {
            "needs_background": "light"
          }
        }
      ]
    },
    {
      "cell_type": "code",
      "source": [
        "RunWalkX=RunWalk[RunWalk['Accelerometer Axis']=='z']\n",
        "sns.scatterplot(x=RunWalkX['Average Degree'], y=RunWalkX['Network Diameter'], hue=RunWalkX['Activity']).set(title=\"Based on Z-axis\")"
      ],
      "metadata": {
        "colab": {
          "base_uri": "https://localhost:8080/",
          "height": 312
        },
        "id": "rE5t52taAJdB",
        "outputId": "a1859182-6813-47eb-f793-1f7f9dcdf53d"
      },
      "execution_count": null,
      "outputs": [
        {
          "output_type": "execute_result",
          "data": {
            "text/plain": [
              "[Text(0.5, 1.0, 'Based on Z-axis')]"
            ]
          },
          "metadata": {},
          "execution_count": 152
        },
        {
          "output_type": "display_data",
          "data": {
            "text/plain": [
              "<Figure size 432x288 with 1 Axes>"
            ],
            "image/png": "[encoded data removed]"
          },
          "metadata": {
            "needs_background": "light"
          }
        }
      ]
    },
    {
      "cell_type": "code",
      "source": [],
      "metadata": {
        "id": "C_E13LHSXYqT"
      },
      "execution_count": null,
      "outputs": []
    }
  ]
}